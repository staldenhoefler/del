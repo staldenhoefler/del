{
 "cells": [
  {
   "cell_type": "markdown",
   "source": [
    "# Functions"
   ],
   "metadata": {
    "collapsed": false
   },
   "id": "4547435ab6a3c112"
  },
  {
   "cell_type": "code",
   "outputs": [
    {
     "name": "stderr",
     "output_type": "stream",
     "text": [
      "C:\\Users\\denis\\AppData\\Roaming\\Python\\Python311\\site-packages\\torchvision\\io\\image.py:13: UserWarning: Failed to load image Python extension: '[WinError 127] Die angegebene Prozedur wurde nicht gefunden'If you don't plan on using image functionality from `torchvision.io`, you can ignore this warning. Otherwise, there might be something wrong with your environment. Did you have `libjpeg` or `libpng` installed before building `torchvision` from source?\n",
      "  warn(\n"
     ]
    },
    {
     "name": "stdout",
     "output_type": "stream",
     "text": [
      "cuda:0\n"
     ]
    }
   ],
   "source": [
    "import matplotlib.pyplot as plt\n",
    "import torch.nn as nn\n",
    "import torch.optim as optim\n",
    "from torch.utils.data import DataLoader\n",
    "from torchvision import datasets\n",
    "from torchvision.transforms import ToTensor\n",
    "import wandb\n",
    "import time\n",
    "import torch\n",
    "import torch.nn.functional as F\n",
    "\n",
    "class HelperClass:\n",
    "    def __init__(self, model, criterion, optimizer, device):\n",
    "        self.model = model\n",
    "        self.criterion = criterion\n",
    "        self.optimizer = optimizer\n",
    "        self.device = torch.device(\"cuda:0\" if torch.cuda.is_available() else \"cpu\")\n",
    "        self.model.to(self.device)\n",
    "\n",
    "    def train(self, train_loader,test_loader, num_epochs):\n",
    "        self.model.to(self.device)\n",
    "        self.model.train()\n",
    "        for epoch in range(num_epochs):\n",
    "            running_loss = 0.0\n",
    "            start_traintime = time.time()\n",
    "            for i, (data) in enumerate(train_loader, 0):\n",
    "                inputs, labels = data\n",
    "                inputs, labels = inputs.to(self.device), labels.to(self.device)\n",
    "\n",
    "                self.optimizer.zero_grad()\n",
    "\n",
    "                outputs = self.model(inputs)\n",
    "                loss = self.criterion(outputs, labels)\n",
    "                loss.backward()\n",
    "                self.optimizer.step()\n",
    "\n",
    "                running_loss += loss.item()\n",
    "            train_loss = running_loss / (i+1)\n",
    "            endtime_train = time.time() - start_traintime\n",
    "            self.evaluate(test_loader=test_loader, train_loader=train_loader, train_loss=train_loss, endtime_train=endtime_train)\n",
    "            print(f\"Epoch {epoch+1}, Loss: {train_loss}\")\n",
    "        print(\"Finished Training\")\n",
    "        wandb.finish()\n",
    "        return self.model\n",
    "\n",
    "\n",
    "    def evaluate(self, test_loader, train_loader, train_loss, endtime_train):\n",
    "        # Evaluate the model on test_loader\n",
    "        self.model.to(self.device)\n",
    "        self.model.eval()\n",
    "        correct = 0\n",
    "        total = 0\n",
    "        test_loss = 0\n",
    "        starttime_test = time.time()\n",
    "        with torch.no_grad():\n",
    "            for inputs, labels in test_loader:\n",
    "                inputs, labels = inputs.to(self.device), labels.to(self.device)\n",
    "                outputs = self.model(inputs)\n",
    "                test_loss += self.criterion(outputs, labels)\n",
    "                _, predicted = torch.max(outputs.data, 1)\n",
    "                total += labels.size(0)\n",
    "                correct += (predicted == labels).sum().item()\n",
    "\n",
    "        test_accuracy = 100 * correct / total\n",
    "        test_loss = test_loss / total\n",
    "\n",
    "        # Evaluate the model on the train_loader\n",
    "        correct = 0\n",
    "        total = 0\n",
    "        with torch.no_grad():\n",
    "            for inputs, labels in train_loader:\n",
    "                inputs, labels = inputs.to(self.device), labels.to(self.device)\n",
    "                outputs = self.model(inputs)\n",
    "                _, predicted = torch.max(outputs.data, 1)\n",
    "                total += labels.size(0)\n",
    "                correct += (predicted == labels).sum().item()\n",
    "\n",
    "        train_accuracy = 100 * correct / total\n",
    "        endtime_test = time.time() - starttime_test\n",
    "        wandb.log(\n",
    "            {\n",
    "                \"test_accuracy\": test_accuracy,\n",
    "                \"train_accuracy\": train_accuracy,\n",
    "                \"train_loss\": train_loss,\n",
    "                \"test_loss\": test_loss,\n",
    "                \"time_train\": endtime_train,\n",
    "                \"time_test\": endtime_test,\n",
    "\n",
    "            }\n",
    "        )\n",
    "\n",
    "\n",
    "\n",
    "\n",
    "def prepare_data(batch_size):\n",
    "    training_data = datasets.CIFAR10(\n",
    "        root=\"data\",\n",
    "        train=True,\n",
    "        download=True,\n",
    "        transform=ToTensor()\n",
    "    )\n",
    "\n",
    "    test_data = datasets.CIFAR10(\n",
    "        root=\"data\",\n",
    "        train=False,\n",
    "        download=True,\n",
    "        transform=ToTensor()\n",
    "    )\n",
    "\n",
    "    train_dataloader = DataLoader(training_data, batch_size=batch_size, shuffle=True, num_workers=4, pin_memory=True, persistent_workers=True, prefetch_factor=2)\n",
    "    test_loader = DataLoader(test_data, batch_size=batch_size, shuffle=True, num_workers=4, pin_memory=True, persistent_workers=True, prefetch_factor=2)\n",
    "    return train_dataloader, test_loader\n",
    "\n",
    "def wandb_login(dict):\n",
    "\n",
    "    # start a new wandb run to track this script\n",
    "    wandb.init(\n",
    "        # set the wandb project where this run will be logged\n",
    "        project=\"del-MC1\",\n",
    "\n",
    "        # track hyperparameters and run metadata\n",
    "        config=dict\n",
    "    )\n",
    "    \n",
    "def get_run_hist(run_id):\n",
    "    api = wandb.Api()\n",
    "    run = api.run(path=f'del-MC1/{run_id}')\n",
    "    history = run.history()\n",
    "    return history\n",
    "\n",
    "device = torch.device(\"cuda:0\" if torch.cuda.is_available() else \"cpu\")\n",
    "print(device)"
   ],
   "metadata": {
    "collapsed": false,
    "ExecuteTime": {
     "end_time": "2024-09-25T07:19:40.183764600Z",
     "start_time": "2024-09-25T07:19:32.432903300Z"
    }
   },
   "id": "440e167614a9d1dd",
   "execution_count": 1
  },
  {
   "cell_type": "code",
   "outputs": [
    {
     "name": "stdout",
     "output_type": "stream",
     "text": [
      "True\n",
      "1\n",
      "NVIDIA GeForce RTX 3050 Ti Laptop GPU\n"
     ]
    }
   ],
   "source": [
    "print(torch.cuda.is_available())  # Should return True if CUDA is available\n",
    "print(torch.cuda.device_count())   # Should return the number of GPUs available\n",
    "print(torch.cuda.get_device_name(0))  # Returns the name of the GPU being used\n"
   ],
   "metadata": {
    "collapsed": false,
    "ExecuteTime": {
     "end_time": "2024-09-25T07:19:46.138240200Z",
     "start_time": "2024-09-25T07:19:46.089613100Z"
    }
   },
   "id": "ebc5ab2132c5dde5",
   "execution_count": 2
  },
  {
   "cell_type": "markdown",
   "source": [
    "# Load Dataset"
   ],
   "metadata": {
    "collapsed": false
   },
   "id": "c2af7ef83dbc6f25"
  },
  {
   "cell_type": "code",
   "outputs": [],
   "source": [
    "training_data = datasets.CIFAR10(\n",
    "    root=\"data\",\n",
    "    train=True,\n",
    "    download=True,\n",
    "    transform=ToTensor()\n",
    ")"
   ],
   "metadata": {
    "collapsed": false
   },
   "id": "93348b9398d9dd45",
   "execution_count": null
  },
  {
   "cell_type": "code",
   "outputs": [],
   "source": [
    "test_data = datasets.CIFAR10(\n",
    "    root=\"data\",\n",
    "    train=False,\n",
    "    download=True,\n",
    "    transform=ToTensor()\n",
    ")"
   ],
   "metadata": {
    "collapsed": false
   },
   "id": "9456023c181156c0",
   "execution_count": null
  },
  {
   "cell_type": "markdown",
   "source": [
    "# EDA"
   ],
   "metadata": {
    "collapsed": false
   },
   "id": "44142046fc85d204"
  },
  {
   "cell_type": "code",
   "outputs": [],
   "source": [
    "import pickle\n",
    "def unpickle(file):\n",
    "    with open(file, 'rb') as fo:\n",
    "        dict = pickle.load(fo, encoding='bytes')\n",
    "    return dict"
   ],
   "metadata": {
    "collapsed": false
   },
   "id": "7e8e5701c9f7f202",
   "execution_count": null
  },
  {
   "cell_type": "code",
   "outputs": [],
   "source": [
    "label_names = unpickle(\"data/cifar-10-batches-py/batches.meta\")[b'label_names']\n",
    "print(label_names)\n",
    "label_names = [x.decode('utf-8') for x in label_names]\n",
    "print(label_names)"
   ],
   "metadata": {
    "collapsed": false
   },
   "id": "d8c69a3a0ece0971",
   "execution_count": null
  },
  {
   "cell_type": "code",
   "outputs": [],
   "source": [
    "train_dataloader = DataLoader(training_data, batch_size=64, shuffle=True)"
   ],
   "metadata": {
    "collapsed": false
   },
   "id": "578651b4d097b781",
   "execution_count": null
  },
  {
   "cell_type": "code",
   "outputs": [],
   "source": [
    "data_train, labels_train = next(iter(train_dataloader))\n",
    "print(f\"Feature batch shape: {data_train.shape}\")\n",
    "print(f\"Labels batch shape: {labels_train.shape}\")"
   ],
   "metadata": {
    "collapsed": false
   },
   "id": "736eaa78a7b18d31",
   "execution_count": null
  },
  {
   "cell_type": "code",
   "outputs": [],
   "source": [
    "img = data_train[0].squeeze()\n",
    "label = label_names[labels_train[0]]\n",
    "# move layer 1 to 3\n",
    "img = img.permute(1, 2, 0)\n",
    "plt.imshow(img, cmap=\"gray\")\n",
    "plt.title(f\"Label: {label}\")\n",
    "plt.show()"
   ],
   "metadata": {
    "collapsed": false
   },
   "id": "ba56d346ce8b4cd4",
   "execution_count": null
  },
  {
   "cell_type": "code",
   "outputs": [],
   "source": [
    "# Get all Data from CIFAR-10\n",
    "data_train = training_data.data\n",
    "labels_train = training_data.targets\n",
    "print(training_data.data.shape)"
   ],
   "metadata": {
    "collapsed": false
   },
   "id": "662c0a9eb6ea2e30",
   "execution_count": null
  },
  {
   "cell_type": "code",
   "outputs": [],
   "source": [
    "import numpy as np\n",
    "index = np.where(np.array(labels_train) == 0)[0]\n",
    "class_data = data_train[index]\n",
    "class_data.shape"
   ],
   "metadata": {
    "collapsed": false
   },
   "id": "d8fa52b41a8ff15c",
   "execution_count": null
  },
  {
   "cell_type": "code",
   "outputs": [],
   "source": [
    "# Show ten Pictures per class in CIFAR-10 resulting in 100 pictures\n",
    "fig, axs = plt.subplots(10, 10, figsize=(15, 15))\n",
    "for i in range(10):\n",
    "    index = np.where(np.array(labels_train) == i)[0]\n",
    "    class_data = data_train[index]\n",
    "    for j in range(10):\n",
    "        img = class_data[j].squeeze()\n",
    "        axs[i, j].imshow(img, cmap=\"gray\")\n",
    "        axs[i, j].axis('off')\n",
    "        axs[i, j].set_title(label_names[i])\n",
    "plt.show()"
   ],
   "metadata": {
    "collapsed": false
   },
   "id": "1bae7611e08ad396",
   "execution_count": null
  },
  {
   "cell_type": "markdown",
   "source": [
    "## Preprocessing\n",
    "Ich werde die Farbwerte der Bilder zwischen 0 und 1 skalieren."
   ],
   "metadata": {
    "collapsed": false
   },
   "id": "32f128c6c9629938"
  },
  {
   "cell_type": "code",
   "outputs": [],
   "source": [
    "plt.imshow(training_data.data[0])\n",
    "plt.legend()"
   ],
   "metadata": {
    "collapsed": false
   },
   "id": "e336bbda765250ef",
   "execution_count": null
  },
  {
   "cell_type": "code",
   "outputs": [],
   "source": [
    "#training_data.data = training_data.data / 255"
   ],
   "metadata": {
    "collapsed": false
   },
   "id": "f7152d8e97da84b7",
   "execution_count": null
  },
  {
   "cell_type": "code",
   "outputs": [],
   "source": [
    "#test_data.data = test_data.data / 255"
   ],
   "metadata": {
    "collapsed": false
   },
   "id": "3935bd367c94210",
   "execution_count": null
  },
  {
   "cell_type": "code",
   "outputs": [],
   "source": [
    "# Control\n",
    "plt.imshow(training_data.data[0])"
   ],
   "metadata": {
    "collapsed": false
   },
   "id": "a47f12c50662a1c1",
   "execution_count": null
  },
  {
   "cell_type": "markdown",
   "source": [
    "# Overfit mit MLP"
   ],
   "metadata": {
    "collapsed": false
   },
   "id": "b8272bfd0ecbad48"
  },
  {
   "cell_type": "code",
   "outputs": [],
   "source": [
    "class BaseModel(nn.Module):\n",
    "    def __init__(self):\n",
    "        super(BaseModel, self).__init__()\n",
    "        self.fc1 = nn.Linear(3072, 120)\n",
    "        self.fc2 = nn.Linear(120, 10)\n",
    "\n",
    "    def forward(self, x):\n",
    "        x = torch.flatten(x, 1)  # flatten all dimensions except batch\n",
    "        x = F.relu(self.fc1(x))\n",
    "        x = self.fc2(x)\n",
    "        return x\n",
    "\n",
    "\n",
    "batch_size = 16\n",
    "learning_rate = 0.1\n",
    "epochs = 100\n",
    "\n",
    "# Loss function\n",
    "criterion = nn.CrossEntropyLoss()\n",
    "\n",
    "# Optimizer\n",
    "baseModel = BaseModel()\n",
    "optimizer = optim.SGD(baseModel.parameters(), lr=learning_rate)\n",
    "\n",
    "model_class = HelperClass(baseModel, criterion, optimizer, device)\n",
    "\n",
    "training_data = datasets.CIFAR10(\n",
    "    root=\"data\",\n",
    "    train=True,\n",
    "    download=True,\n",
    "    transform=ToTensor()\n",
    ")\n",
    "\n",
    "test_data = datasets.CIFAR10(\n",
    "    root=\"data\",\n",
    "    train=False,\n",
    "    download=True,\n",
    "    transform=ToTensor()\n",
    ")\n",
    "batch_samples = torch.utils.data.Subset(training_data, range(batch_size))\n",
    "train_loader = DataLoader(batch_samples, batch_size=batch_size, shuffle=True, num_workers=4, pin_memory=True, persistent_workers=True)\n",
    "test_loader = DataLoader(test_data, batch_size=batch_size, shuffle=True, num_workers=4, pin_memory=True, persistent_workers=True)\n",
    "\n",
    "dict = {\n",
    "            \"dataset\": \"CIFAR-10\",\n",
    "            \"epochs\": epochs,\n",
    "            \"linear_layers\": 2,\n",
    "            \"learning_rate\": learning_rate,\n",
    "            \"architecture\": \"MLP\",\n",
    "            \"batch_size\": batch_size,\n",
    "            \"conv_layers\": 0,\n",
    "        }\n",
    "\n",
    "wandb_login(dict)\n",
    "\n",
    "trained_model = model_class.train(train_loader, test_loader, epochs)"
   ],
   "metadata": {
    "collapsed": false
   },
   "id": "71db1c056df84e81",
   "execution_count": null
  },
  {
   "cell_type": "markdown",
   "source": [
    "## Analyse"
   ],
   "metadata": {
    "collapsed": false
   },
   "id": "537e44cc6572d9e"
  },
  {
   "cell_type": "code",
   "outputs": [],
   "source": [
    "history = get_run_hist(\"cu5jzl9b\")\n",
    "plt.plot(history['train_accuracy'])\n",
    "plt.xlabel('Epoch')\n",
    "plt.ylabel('Train Accuracy')\n",
    "plt.title('Train Accuracy for Overfitting-Test')\n",
    "plt.show()"
   ],
   "metadata": {
    "collapsed": false
   },
   "id": "c5c5a542cc9558d5",
   "execution_count": null
  },
  {
   "cell_type": "markdown",
   "source": [
    "# Einfache MLP-Modelle\n",
    "## Base Model"
   ],
   "metadata": {
    "collapsed": false
   },
   "id": "a29d925a6c50403d"
  },
  {
   "cell_type": "code",
   "outputs": [],
   "source": [
    "\n",
    "class BaseModel(nn.Module):\n",
    "    def __init__(self):\n",
    "        super(BaseModel, self).__init__()\n",
    "        self.fc1 = nn.Linear(3072, 720)\n",
    "        self.fc2 = nn.Linear(720, 120)\n",
    "        self.fc3 = nn.Linear(120, 10)\n",
    "\n",
    "    def forward(self, x):\n",
    "        x = torch.flatten(x, 1)  # flatten all dimensions except batch\n",
    "        x = F.relu(self.fc1(x))\n",
    "        x = F.relu(self.fc2(x))\n",
    "        x = self.fc3(x)\n",
    "        return x\n",
    "\n",
    "\n",
    "batch_size = 16\n",
    "learning_rate = 0.01\n",
    "epochs = 50\n",
    "\n",
    "# Loss function\n",
    "criterion = nn.CrossEntropyLoss()\n",
    "\n",
    "# Optimizer\n",
    "baseModel = BaseModel()\n",
    "optimizer = optim.SGD(baseModel.parameters(), lr=learning_rate)\n",
    "\n",
    "model_class = HelperClass(baseModel, criterion, optimizer, device)\n",
    "\n",
    "train_loader, test_loader = HelperClass.prepare_data(batch_size)\n",
    "\n",
    "dict = {\n",
    "            \"dataset\": \"CIFAR-10\",\n",
    "            \"epochs\": epochs,\n",
    "            \"linear_layers\": 3,\n",
    "            \"learning_rate\": learning_rate,\n",
    "            \"architecture\": \"MLP\",\n",
    "            \"batch_size\": batch_size,\n",
    "            \"conv_layers\": 0,\n",
    "        }\n",
    "\n",
    "wandb_login(dict)\n",
    "\n",
    "trained_model = model_class.train(train_loader, test_loader, epochs)"
   ],
   "metadata": {
    "collapsed": false
   },
   "id": "1d645b76206464bd",
   "execution_count": null
  },
  {
   "cell_type": "code",
   "outputs": [],
   "source": [
    "history = get_run_hist(\"6yxvv84m\")"
   ],
   "metadata": {
    "collapsed": false
   },
   "id": "100da9ce41714690",
   "execution_count": null
  },
  {
   "cell_type": "code",
   "outputs": [],
   "source": [
    "#make same plot but with plotly\n",
    "import plotly.graph_objects as go\n",
    "\n",
    "fig = go.Figure()\n",
    "fig.add_trace(go.Scatter(y=history['train_accuracy'], mode='lines', name='Train Accuracy'))\n",
    "fig.add_trace(go.Scatter(y=history['test_accuracy'], mode='lines', name='Test Accuracy'))\n",
    "fig.update_xaxes(title_text='Epoch')\n",
    "fig.update_yaxes(title_text='Accuracy')\n",
    "fig.show()\n"
   ],
   "metadata": {
    "collapsed": false
   },
   "id": "390c152e7dc282c4",
   "execution_count": null
  },
  {
   "cell_type": "code",
   "outputs": [],
   "source": [
    "import plotly.graph_objects as go\n",
    "from plotly.subplots import make_subplots\n",
    "\n",
    "fig = make_subplots(rows=2, cols=1, subplot_titles=(\"Train Loss\", \"Test Loss\"))\n",
    "fig.add_trace(go.Scatter(y=history['train_loss'], mode='lines', name='Train Loss'), row=1, col=1)\n",
    "fig.add_trace(go.Scatter(y=history['test_loss'], mode='lines', name='Test Loss'), row=2, col=1)\n",
    "\n",
    "fig.update_xaxes(title_text='Epoch', row=1, col=1)\n",
    "fig.update_xaxes(title_text='Epoch', row=2, col=1)\n",
    "fig.update_yaxes(title_text='Loss', row=1, col=1)\n",
    "fig.update_yaxes(title_text='Loss', row=2, col=1)\n",
    "\n",
    "fig.show()"
   ],
   "metadata": {
    "collapsed": false
   },
   "id": "64545d48dd605ce8",
   "execution_count": null
  },
  {
   "cell_type": "markdown",
   "source": [
    "TODO: Analyse"
   ],
   "metadata": {
    "collapsed": false
   },
   "id": "97d3c2010f64d32e"
  },
  {
   "cell_type": "markdown",
   "source": [
    "## Hyperparameter Tuning\n",
    "### Anzahl Layers MLP\n",
    "#### 4 Layers"
   ],
   "metadata": {
    "collapsed": false
   },
   "id": "542d1ff0b306382e"
  },
  {
   "cell_type": "code",
   "outputs": [],
   "source": [
    "class BaseModel(nn.Module):\n",
    "    def __init__(self):\n",
    "        super(BaseModel, self).__init__()\n",
    "        self.fc1 = nn.Linear(3072, 2000)\n",
    "        self.fc2 = nn.Linear(2000, 1000)\n",
    "        self.fc3 = nn.Linear(1000, 256)\n",
    "        self.fc4 = nn.Linear(256, 10)\n",
    "\n",
    "    def forward(self, x):\n",
    "        x = torch.flatten(x, 1)  # flatten all dimensions except batch\n",
    "        x = F.relu(self.fc1(x))\n",
    "        x = F.relu(self.fc2(x))\n",
    "        x = F.relu(self.fc3(x))\n",
    "        x = self.fc4(x)\n",
    "        return x\n",
    "\n",
    "\n",
    "batch_size = 16\n",
    "learning_rate = 0.01\n",
    "epochs = 50\n",
    "\n",
    "# Loss function\n",
    "criterion = nn.CrossEntropyLoss()\n",
    "\n",
    "# Optimizer\n",
    "baseModel = BaseModel()\n",
    "optimizer = optim.SGD(baseModel.parameters(), lr=learning_rate)\n",
    "\n",
    "model_class = HelperClass(baseModel, criterion, optimizer, device)\n",
    "\n",
    "train_loader, test_loader = prepare_data(batch_size)\n",
    "\n",
    "dict = {\n",
    "            \"dataset\": \"CIFAR-10\",\n",
    "            \"epochs\": epochs,\n",
    "            \"linear_layers\": 4,\n",
    "            \"learning_rate\": learning_rate,\n",
    "            \"architecture\": \"MLP\",\n",
    "            \"batch_size\": batch_size,\n",
    "            \"conv_layers\": 0,\n",
    "        }\n",
    "\n",
    "wandb_login(dict)\n",
    "\n",
    "trained_model = model_class.train(train_loader, test_loader, epochs)"
   ],
   "metadata": {
    "collapsed": false
   },
   "id": "c71dcfe03e65eb47",
   "execution_count": null
  },
  {
   "cell_type": "markdown",
   "source": [
    "#### 2 Layers"
   ],
   "metadata": {
    "collapsed": false
   },
   "id": "16b8be31a7f9d8e4"
  },
  {
   "cell_type": "code",
   "outputs": [],
   "source": [
    "from HelperClasses.HelperClasses import HelperClass\n",
    "from HelperClasses import HelperClasses as hp\n",
    "\n",
    "class BaseModel(nn.Module):\n",
    "    def __init__(self):\n",
    "        super(BaseModel, self).__init__()\n",
    "        self.fc1 = nn.Linear(3072, 256)\n",
    "        self.fc2 = nn.Linear(256, 10)\n",
    "\n",
    "    def forward(self, x):\n",
    "        x = torch.flatten(x, 1)  # flatten all dimensions except batch\n",
    "        x = F.relu(self.fc1(x))\n",
    "        x = self.fc2(x)\n",
    "        return x\n",
    "\n",
    "\n",
    "batch_size = 16\n",
    "learning_rate = 0.01\n",
    "epochs = 50\n",
    "\n",
    "# Loss function\n",
    "criterion = nn.CrossEntropyLoss()\n",
    "\n",
    "# Optimizer\n",
    "baseModel = BaseModel()\n",
    "optimizer = optim.SGD(baseModel.parameters(), lr=learning_rate)\n",
    "\n",
    "model_class = HelperClass(baseModel, criterion, optimizer, device)\n",
    "\n",
    "train_loader, test_loader = prepare_data(batch_size)\n",
    "\n",
    "dict = {\n",
    "            \"dataset\": \"CIFAR-10\",\n",
    "            \"epochs\": epochs,\n",
    "            \"linear_layers\": 2,\n",
    "            \"learning_rate\": learning_rate,\n",
    "            \"architecture\": \"MLP\",\n",
    "            \"batch_size\": batch_size,\n",
    "            \"conv_layers\": 0,\n",
    "        }\n",
    "\n",
    "wandb_login(dict)\n",
    "\n",
    "trained_model = model_class.train(train_loader, test_loader, epochs)"
   ],
   "metadata": {
    "collapsed": false
   },
   "id": "b087f53088540050",
   "execution_count": null
  },
  {
   "cell_type": "markdown",
   "source": [
    "#### 5 Layer"
   ],
   "metadata": {
    "collapsed": false
   },
   "id": "5f5db540517ce5af"
  },
  {
   "cell_type": "code",
   "outputs": [],
   "source": [
    "class BaseModel(nn.Module):\n",
    "    def __init__(self):\n",
    "        super(BaseModel, self).__init__()\n",
    "        self.fc1 = nn.Linear(3072, 1024)\n",
    "        self.fc2 = nn.Linear(1024, 512)\n",
    "        self.fc3 = nn.Linear(512, 256)\n",
    "        self.fc4 = nn.Linear(256, 128)\n",
    "        self.fc5 = nn.Linear(128, 10)\n",
    "\n",
    "    def forward(self, x):\n",
    "        x = torch.flatten(x, 1)  # flatten all dimensions except batch\n",
    "        x = F.relu(self.fc1(x))\n",
    "        x = F.relu(self.fc2(x))\n",
    "        x = F.relu(self.fc3(x))\n",
    "        x = F.relu(self.fc4(x))\n",
    "        x = self.fc5(x)\n",
    "        return x\n",
    "\n",
    "\n",
    "batch_size = 16\n",
    "learning_rate = 0.01\n",
    "epochs = 10\n",
    "\n",
    "# Loss function\n",
    "criterion = nn.CrossEntropyLoss()\n",
    "\n",
    "# Optimizer\n",
    "baseModel = BaseModel()\n",
    "optimizer = optim.SGD(baseModel.parameters(), lr=learning_rate)\n",
    "\n",
    "model_class = HelperClass(baseModel, criterion, optimizer, device)\n",
    "\n",
    "train_loader, test_loader = hp.prepare_data(batch_size)\n",
    "\n",
    "dict = {\n",
    "            \"dataset\": \"CIFAR-10\",\n",
    "            \"epochs\": epochs,\n",
    "            \"linear_layers\": 5,\n",
    "            \"learning_rate\": learning_rate,\n",
    "            \"architecture\": \"MLP\",\n",
    "            \"batch_size\": batch_size,\n",
    "            \"conv_layers\": 0,\n",
    "        }\n",
    "\n",
    "hp.wandb_login(dict)\n",
    "\n",
    "trained_model = model_class.train(train_loader, test_loader, epochs)"
   ],
   "metadata": {
    "collapsed": false
   },
   "id": "7bda48453860a419",
   "execution_count": null
  },
  {
   "cell_type": "markdown",
   "source": [
    "#### Analyse\n"
   ],
   "metadata": {
    "collapsed": false
   },
   "id": "a4a1caf69287ed4d"
  },
  {
   "cell_type": "code",
   "outputs": [],
   "source": [
    "hist4layers = get_run_hist(\"0qsnvr7j\")\n",
    "hist2layers = get_run_hist(\"zjjwg04a\")\n",
    "hist5layers = get_run_hist(\"h8iftc74\")\n",
    "histBaseModel = get_run_hist(\"6yxvv84m\")"
   ],
   "metadata": {
    "collapsed": false,
    "ExecuteTime": {
     "end_time": "2024-09-18T14:40:47.583552500Z",
     "start_time": "2024-09-18T14:40:38.620311800Z"
    }
   },
   "id": "7d6acb5b25435f68",
   "execution_count": 11
  },
  {
   "cell_type": "code",
   "outputs": [
    {
     "data": {
      "application/vnd.plotly.v1+json": {
       "data": [
        {
         "hoverinfo": "name+y",
         "legendgroup": "5 Layers",
         "line": {
          "color": "blue"
         },
         "mode": "lines",
         "name": "5 Layers",
         "y": [
          2.108499963645935,
          1.8347520250701905,
          1.7092593866348267,
          1.6217039535713196,
          1.5579493803596496,
          1.5053537645339965,
          1.4620842866516113,
          1.420341223487854,
          1.3811150085258483,
          1.3465382308197023,
          1.3131698400878906,
          1.2846770343971252,
          1.257114980764389,
          1.2271452391624451,
          1.1991539878559112,
          1.1734754171466828,
          1.1454407467556,
          1.1172639487361908,
          1.0906647245979308,
          1.0610504205513,
          1.0356317693996429,
          1.0058521210765838,
          0.9808488425159454,
          0.9493949681854248,
          0.925183695268631,
          0.8968053310585022,
          0.8691704018545151,
          0.8383458896684647,
          0.8084725700521469,
          0.7822506377196312,
          0.7486066784143448,
          0.7264620587730408,
          0.7048221223402024,
          0.6688414309358597,
          0.6441312162256241,
          0.6210896293890477,
          0.5918854038405419,
          0.5674632416367531,
          0.5489056394100189,
          0.5191322998869419,
          0.4977659346294403,
          0.478030443251133,
          0.45544884207367897,
          0.4395486815226078,
          0.41395590565681456,
          0.40086039680957797,
          0.38252158969163896,
          0.3651662785947323,
          0.3659553850877285,
          0.3471793787609041
         ],
         "type": "scatter",
         "xaxis": "x",
         "yaxis": "y"
        },
        {
         "hoverinfo": "name+y",
         "legendgroup": "4 Layers",
         "line": {
          "color": "black"
         },
         "mode": "lines",
         "name": "4 Layers",
         "y": [
          1.9934879048538208,
          1.743800471611023,
          1.632163561782837,
          1.5549381497764587,
          1.495897802581787,
          1.4476152502250672,
          1.406187227010727,
          1.3661694202804566,
          1.3310834334373474,
          1.296916977596283,
          1.268271935119629,
          1.236745768175125,
          1.2069900045204163,
          1.1770675518989564,
          1.1462720633125305,
          1.1168118257045745,
          1.086991507911682,
          1.059559024734497,
          1.0290153459072113,
          1.0000378793716431,
          0.9693019085597991,
          0.9404235210227966,
          0.9088671476364135,
          0.8749051948547363,
          0.8445334927177429,
          0.8122346799325944,
          0.7812903108787537,
          0.7501740545034409,
          0.7179483241271972,
          0.6851215979027748,
          0.6554905570149422,
          0.6212336305189132,
          0.5920482757592201,
          0.5597184797930718,
          0.5298976430559158,
          0.5029897752690315,
          0.47950020134210586,
          0.4491283677905798,
          0.4291679902094603,
          0.40209239925861356,
          0.38081135868132115,
          0.35231919284939767,
          0.34265992140710355,
          0.31901311411321165,
          0.3011398853582144,
          0.288010158624053,
          0.266580253777504,
          0.257733997220695,
          0.24172152063682675,
          0.23897085990205408
         ],
         "type": "scatter",
         "xaxis": "x",
         "yaxis": "y"
        },
        {
         "hoverinfo": "name+y",
         "legendgroup": "2 Layers",
         "line": {
          "color": "gray"
         },
         "mode": "lines",
         "name": "2 Layers",
         "y": [
          1.8831917835235596,
          1.691097511024475,
          1.6114248043823243,
          1.5570746554565429,
          1.5156223196029663,
          1.4790592746925355,
          1.4490802923583985,
          1.421907129611969,
          1.3985814504623413,
          1.376062225265503,
          1.3557400687980652,
          1.3382256598854065,
          1.321588869228363,
          1.303425024394989,
          1.2905809880638122,
          1.2726387325763702,
          1.2564830536460876,
          1.2453245759391784,
          1.2310016659164429,
          1.2149044147109986,
          1.2024838188838958,
          1.19135113448143,
          1.1794955226230621,
          1.1683618557739257,
          1.1547863128185272,
          1.1443709045696258,
          1.1309516116714478,
          1.1212662796497346,
          1.1129712134742737,
          1.1009677836608887,
          1.091025718755722,
          1.079401852016449,
          1.0672710757541657,
          1.0592054088115692,
          1.051105342144966,
          1.036351272649765,
          1.0274791777324677,
          1.0182634871864318,
          1.0105779508304595,
          1.0013000332927704,
          0.990780463476181,
          0.9814845951080322,
          0.9714504648017883,
          0.9648972758436203,
          0.9542634132766724,
          0.9455654809379578,
          0.9391633736610413,
          0.9276758539199829,
          0.9207662561130524,
          0.9114630216646195
         ],
         "type": "scatter",
         "xaxis": "x",
         "yaxis": "y"
        },
        {
         "hoverinfo": "name+y",
         "legendgroup": "BaseModel",
         "line": {
          "color": "orange"
         },
         "mode": "lines",
         "name": "BaseModel",
         "y": [
          1.9447669314956666,
          1.7246050619506836,
          1.6264006231498718,
          1.5582334553146362,
          1.5068945376014709,
          1.4651639109611512,
          1.425666904220581,
          1.3929097122573852,
          1.3603759949493408,
          1.3354503584480286,
          1.306615334148407,
          1.2829810798454284,
          1.2587342044830323,
          1.2341309056663514,
          1.2143988430023194,
          1.1902363724422456,
          1.1679631369304657,
          1.1519479838085174,
          1.130395508852005,
          1.109894650297165,
          1.0918633601665497,
          1.0701662253856659,
          1.0541087239933014,
          1.037151761856079,
          1.0152066776180266,
          0.9973391600513458,
          0.9824958049297333,
          0.9630295471382141,
          0.9448121667098999,
          0.9240953047466278,
          0.9092952703666687,
          0.8921917771482467,
          0.8730595661449433,
          0.8574420951318741,
          0.839639254374504,
          0.8235211759185791,
          0.8062353079032898,
          0.7871460810947418,
          0.7687846211099625,
          0.7510485057735443,
          0.7375186421132087,
          0.7195311953878403,
          0.704909516506195,
          0.6850495828771591,
          0.672652720746994,
          0.6575985349130631,
          0.6394310154199601,
          0.622987722672224,
          0.6154418856072426,
          0.6004015681600571
         ],
         "type": "scatter",
         "xaxis": "x",
         "yaxis": "y"
        },
        {
         "hoverinfo": "name+y",
         "legendgroup": "5 Layers",
         "line": {
          "color": "blue"
         },
         "mode": "lines",
         "name": "5 Layers",
         "showlegend": false,
         "y": [
          0.12302148342132568,
          0.11432067304849625,
          0.10099010914564133,
          0.09979332983493805,
          0.0958358570933342,
          0.09185747802257538,
          0.09205746650695801,
          0.08749805390834808,
          0.09102588891983032,
          0.08438915014266968,
          0.08598051965236664,
          0.08796878904104233,
          0.08441703021526337,
          0.08336548507213593,
          0.08413058519363403,
          0.08223051577806473,
          0.08365163207054138,
          0.08158015459775925,
          0.08282043039798737,
          0.08418723195791245,
          0.08712728321552277,
          0.08095616102218628,
          0.08091707527637482,
          0.08602728694677353,
          0.08534234017133713,
          0.08376621454954147,
          0.08366518467664719,
          0.08636646717786789,
          0.08570054918527603,
          0.08551241457462311,
          0.09040982276201248,
          0.09218908846378326,
          0.09208186715841293,
          0.09639417380094528,
          0.09986252337694168,
          0.09829019755125046,
          0.10092389583587646,
          0.10263388603925705,
          0.09864041209220886,
          0.10852779448032379,
          0.11054624617099762,
          0.11061017960309982,
          0.11242133378982544,
          0.11634647101163864,
          0.11640267074108124,
          0.12208589911460876,
          0.13201875984668732,
          0.12755700945854187,
          0.1263292133808136,
          0.13175523281097412
         ],
         "type": "scatter",
         "xaxis": "x2",
         "yaxis": "y2"
        },
        {
         "hoverinfo": "name+y",
         "legendgroup": "4 Layers",
         "line": {
          "color": "black"
         },
         "mode": "lines",
         "name": "4 Layers",
         "showlegend": false,
         "y": [
          0.1129290983080864,
          0.10364800691604614,
          0.09925053268671036,
          0.09679123014211655,
          0.09138435125350952,
          0.09279433637857437,
          0.08901092410087585,
          0.09037857502698898,
          0.08659501373767853,
          0.08703015744686127,
          0.08586833626031876,
          0.08769600093364716,
          0.08513891696929932,
          0.08186337351799011,
          0.08497586101293564,
          0.08292926102876663,
          0.08005449920892715,
          0.08306676149368286,
          0.08055610954761505,
          0.0839759111404419,
          0.08048161119222641,
          0.08486481010913849,
          0.08658871799707413,
          0.08357657492160797,
          0.08303950726985931,
          0.0882963016629219,
          0.0854588970541954,
          0.08383125066757202,
          0.09102726727724075,
          0.0907326340675354,
          0.08820658922195435,
          0.09335385262966156,
          0.09841868281364441,
          0.0972670316696167,
          0.10046876221895218,
          0.10029313713312149,
          0.10637695342302322,
          0.10482409596443176,
          0.10521455854177475,
          0.10999807715415955,
          0.11576392501592636,
          0.1157112792134285,
          0.1165413036942482,
          0.1288125365972519,
          0.11944884806871414,
          0.1309184432029724,
          0.13275079429149628,
          0.13052448630332947,
          0.13511061668395996,
          0.15328942239284515
         ],
         "type": "scatter",
         "xaxis": "x2",
         "yaxis": "y2"
        },
        {
         "hoverinfo": "name+y",
         "legendgroup": "2 Layers",
         "line": {
          "color": "gray"
         },
         "mode": "lines",
         "name": "2 Layers",
         "showlegend": false,
         "y": [
          0.10807609558105469,
          0.10217814892530441,
          0.1003602147102356,
          0.09652163088321686,
          0.0966467410326004,
          0.09444042295217514,
          0.09219474345445633,
          0.09228529781103134,
          0.09239079803228378,
          0.08726633340120316,
          0.08738406002521515,
          0.08932136744260788,
          0.0924246683716774,
          0.08795084059238434,
          0.0876278206706047,
          0.08791237324476242,
          0.0851614698767662,
          0.08705040067434311,
          0.0871918648481369,
          0.08493025600910187,
          0.0879138633608818,
          0.08497266471385956,
          0.08672051876783371,
          0.09125633537769318,
          0.08571665734052658,
          0.08620142936706543,
          0.08682876080274582,
          0.0883827954530716,
          0.08838187903165817,
          0.08441968262195587,
          0.08557463437318802,
          0.08422384411096573,
          0.08519163727760315,
          0.08761657774448395,
          0.08709409832954407,
          0.08876129239797592,
          0.09029864519834518,
          0.08762982487678528,
          0.08807147294282913,
          0.0886022299528122,
          0.08851461112499237,
          0.08748560398817062,
          0.08679716289043427,
          0.08830602467060089,
          0.0906098335981369,
          0.09522981196641922,
          0.08866989612579346,
          0.09143370389938354,
          0.08999340981245041,
          0.08964579552412033
         ],
         "type": "scatter",
         "xaxis": "x2",
         "yaxis": "y2"
        },
        {
         "hoverinfo": "name+y",
         "legendgroup": "BaseModel",
         "line": {
          "color": "orange"
         },
         "mode": "lines",
         "name": "BaseModel",
         "showlegend": false,
         "y": [
          0.11376160383224487,
          0.10207866132259369,
          0.09942951798439026,
          0.09586360305547714,
          0.09506715089082718,
          0.09014476835727692,
          0.08832867443561554,
          0.0882456973195076,
          0.08717293292284012,
          0.08672302216291428,
          0.08794991672039032,
          0.09078126400709152,
          0.0877440944314003,
          0.08293812721967697,
          0.0837923064827919,
          0.08137912303209305,
          0.08531489968299866,
          0.08192799240350723,
          0.0809004157781601,
          0.0842115581035614,
          0.08253118395805359,
          0.08412984013557434,
          0.08075065165758133,
          0.08186013251543045,
          0.08208794891834259,
          0.08649874478578568,
          0.08407056331634521,
          0.08217081427574158,
          0.08174866437911987,
          0.08688163757324219,
          0.08737174421548843,
          0.08353043347597122,
          0.0838257297873497,
          0.08701682090759277,
          0.08859464526176453,
          0.08749525249004364,
          0.08671200275421143,
          0.0893867015838623,
          0.08587639033794403,
          0.09011071920394897,
          0.08983484655618668,
          0.09170090407133102,
          0.0925796627998352,
          0.09502708166837692,
          0.09309769421815872,
          0.09837918728590012,
          0.10021264106035233,
          0.10245612263679504,
          0.10171887278556824,
          0.09990287572145462
         ],
         "type": "scatter",
         "xaxis": "x2",
         "yaxis": "y2"
        },
        {
         "hoverinfo": "name+y",
         "legendgroup": "5 Layers",
         "line": {
          "color": "blue"
         },
         "mode": "lines",
         "name": "5 Layers",
         "showlegend": false,
         "y": [
          27.192,
          34.566,
          42.222,
          42.544,
          45.498,
          48.418,
          48.71,
          51.75,
          50.644,
          55.002,
          54.656,
          53.026,
          56.316,
          58.5,
          57.848,
          59.87,
          60.346,
          61.892,
          63.534,
          62.652,
          62.104,
          66.198,
          68.286,
          66.194,
          68.508,
          70.678,
          70.91,
          71.11,
          74.306,
          76.462,
          75.1,
          74.808,
          79.624,
          77.118,
          77.878,
          80.726,
          78.886,
          81.492,
          84.312,
          82.216,
          83.628,
          85.83,
          85.3,
          85.724,
          86.704,
          87.436,
          86.014,
          88.232,
          89.62,
          89.166
         ],
         "type": "scatter",
         "xaxis": "x3",
         "yaxis": "y3"
        },
        {
         "hoverinfo": "name+y",
         "legendgroup": "4 Layers",
         "line": {
          "color": "black"
         },
         "mode": "lines",
         "name": "4 Layers",
         "showlegend": false,
         "y": [
          34.786,
          39.968,
          43.846,
          45.814,
          48.622,
          48.946,
          51.62,
          50.716,
          54.28,
          55.088,
          55.65,
          54.574,
          57.986,
          60.036,
          58.934,
          61.484,
          64.294,
          63.138,
          65.97,
          65.79,
          68.898,
          68.248,
          67.432,
          70.698,
          72.96,
          70.796,
          74.714,
          77.67,
          74.23,
          76.548,
          80.668,
          80.12,
          79.376,
          82.416,
          82.172,
          83.894,
          84.408,
          86.242,
          86.542,
          87.514,
          86.362,
          89.746,
          91.208,
          88.072,
          92.704,
          91.124,
          91.184,
          92.65,
          92.202,
          88.146
         ],
         "type": "scatter",
         "xaxis": "x3",
         "yaxis": "y3"
        },
        {
         "hoverinfo": "name+y",
         "legendgroup": "2 Layers",
         "line": {
          "color": "gray"
         },
         "mode": "lines",
         "name": "2 Layers",
         "showlegend": false,
         "y": [
          38.924,
          42.6,
          43.912,
          46.244,
          46.112,
          48.252,
          50.138,
          49.77,
          51.302,
          54.322,
          54.326,
          53.18,
          52.29,
          55.576,
          55.976,
          56.502,
          57.93,
          57.002,
          57.2,
          59.562,
          58.124,
          60.33,
          59.296,
          57.802,
          60.788,
          60.528,
          61.362,
          61.37,
          61.224,
          63.074,
          63.006,
          64.974,
          65.068,
          63.322,
          64.152,
          64.16,
          63.666,
          65.712,
          65.648,
          65.322,
          65.976,
          67.232,
          68.596,
          67.486,
          66.406,
          64.4,
          69.264,
          68.34,
          69.112,
          69.904
         ],
         "type": "scatter",
         "xaxis": "x3",
         "yaxis": "y3"
        },
        {
         "hoverinfo": "name+y",
         "legendgroup": "BaseModel",
         "line": {
          "color": "orange"
         },
         "mode": "lines",
         "name": "BaseModel",
         "showlegend": false,
         "y": [
          34.05,
          41.802,
          43.716,
          46.216,
          46.66,
          50.388,
          51.868,
          52.428,
          53.302,
          54.006,
          52.424,
          52.79,
          55.236,
          58.184,
          57.768,
          60.232,
          58.27,
          62.01,
          62.044,
          60.51,
          62.796,
          62.596,
          65.124,
          65.624,
          65.92,
          65.082,
          65.908,
          67.668,
          69.878,
          66.64,
          67.49,
          70.838,
          71.502,
          70.538,
          71.152,
          72.1,
          73.288,
          74.072,
          75.976,
          75.312,
          76.98,
          76.624,
          76.792,
          75.736,
          78.772,
          77.822,
          78.572,
          78.484,
          79.564,
          80.716
         ],
         "type": "scatter",
         "xaxis": "x3",
         "yaxis": "y3"
        },
        {
         "hoverinfo": "name+y",
         "legendgroup": "5 Layers",
         "line": {
          "color": "blue"
         },
         "mode": "lines",
         "name": "5 Layers",
         "showlegend": false,
         "y": [
          27.16,
          34.67,
          41.93,
          41.82,
          45.42,
          46.92,
          47.14,
          49.82,
          48.13,
          51.89,
          51.55,
          48.74,
          51.17,
          52.41,
          52.2,
          53.55,
          53.2,
          53.4,
          53.89,
          52.48,
          51.61,
          54.24,
          55.34,
          53.06,
          54.31,
          54.84,
          54.89,
          53.46,
          55.14,
          55.27,
          54.22,
          53.75,
          55.03,
          54.09,
          54.42,
          54.64,
          53.3,
          54.74,
          55.29,
          53.77,
          53.97,
          55.02,
          54.33,
          54.62,
          53.86,
          55.56,
          54.26,
          53.84,
          55.09,
          54.79
         ],
         "type": "scatter",
         "xaxis": "x4",
         "yaxis": "y4"
        },
        {
         "hoverinfo": "name+y",
         "legendgroup": "4 Layers",
         "line": {
          "color": "black"
         },
         "mode": "lines",
         "name": "4 Layers",
         "showlegend": false,
         "y": [
          33.93,
          40.46,
          43.61,
          45.02,
          47.41,
          47.46,
          49.23,
          48.11,
          51.25,
          51.05,
          51.26,
          49.99,
          51.79,
          53.1,
          51.78,
          53.26,
          54.83,
          53.61,
          55.37,
          54.34,
          55.34,
          54.12,
          53.11,
          54.27,
          55.06,
          54.31,
          55.39,
          55.79,
          54.39,
          53.19,
          56.34,
          55.37,
          54.72,
          55.63,
          55.2,
          55.24,
          55.1,
          55.01,
          55.52,
          56.13,
          54.59,
          56.29,
          56.81,
          54.66,
          56.45,
          55.24,
          54.68,
          55.65,
          55.96,
          54.4
         ],
         "type": "scatter",
         "xaxis": "x4",
         "yaxis": "y4"
        },
        {
         "hoverinfo": "name+y",
         "legendgroup": "2 Layers",
         "line": {
          "color": "gray"
         },
         "mode": "lines",
         "name": "2 Layers",
         "showlegend": false,
         "y": [
          38.81,
          41.76,
          42.98,
          44.99,
          44.67,
          46.94,
          47.65,
          47.43,
          48.55,
          50.3,
          50.51,
          49.67,
          47.95,
          50.2,
          51.1,
          50.6,
          51.71,
          51.08,
          51.15,
          52.48,
          50.7,
          52.72,
          51.57,
          49.58,
          52.3,
          51.68,
          51.94,
          51.91,
          51.44,
          52.9,
          52.35,
          53.48,
          53.31,
          52.1,
          53.11,
          51.84,
          51.36,
          52.14,
          53.06,
          52.23,
          52.85,
          52.89,
          52.72,
          52.95,
          52.04,
          50.53,
          52.18,
          52.86,
          52.61,
          52.73
         ],
         "type": "scatter",
         "xaxis": "x4",
         "yaxis": "y4"
        },
        {
         "hoverinfo": "name+y",
         "legendgroup": "BaseModel",
         "line": {
          "color": "orange"
         },
         "mode": "lines",
         "name": "BaseModel",
         "showlegend": false,
         "y": [
          34.52,
          42.04,
          43.58,
          45.24,
          46.08,
          48.79,
          49.75,
          49.77,
          50.13,
          50.66,
          49.01,
          49.45,
          50.65,
          53.01,
          52.76,
          53.89,
          51.78,
          53.96,
          53.85,
          51.93,
          53.2,
          52.97,
          53.79,
          54.21,
          53.67,
          53.49,
          53.39,
          54.98,
          54.89,
          53.18,
          52.84,
          54.5,
          54.9,
          54.2,
          53.41,
          53.9,
          54.1,
          54.14,
          55.47,
          55.03,
          54.61,
          54.31,
          53.92,
          52.94,
          54.78,
          54.27,
          53.42,
          53.78,
          54.24,
          54.89
         ],
         "type": "scatter",
         "xaxis": "x4",
         "yaxis": "y4"
        }
       ],
       "layout": {
        "template": {
         "data": {
          "histogram2dcontour": [
           {
            "type": "histogram2dcontour",
            "colorbar": {
             "outlinewidth": 0,
             "ticks": ""
            },
            "colorscale": [
             [
              0.0,
              "#0d0887"
             ],
             [
              0.1111111111111111,
              "#46039f"
             ],
             [
              0.2222222222222222,
              "#7201a8"
             ],
             [
              0.3333333333333333,
              "#9c179e"
             ],
             [
              0.4444444444444444,
              "#bd3786"
             ],
             [
              0.5555555555555556,
              "#d8576b"
             ],
             [
              0.6666666666666666,
              "#ed7953"
             ],
             [
              0.7777777777777778,
              "#fb9f3a"
             ],
             [
              0.8888888888888888,
              "#fdca26"
             ],
             [
              1.0,
              "#f0f921"
             ]
            ]
           }
          ],
          "choropleth": [
           {
            "type": "choropleth",
            "colorbar": {
             "outlinewidth": 0,
             "ticks": ""
            }
           }
          ],
          "histogram2d": [
           {
            "type": "histogram2d",
            "colorbar": {
             "outlinewidth": 0,
             "ticks": ""
            },
            "colorscale": [
             [
              0.0,
              "#0d0887"
             ],
             [
              0.1111111111111111,
              "#46039f"
             ],
             [
              0.2222222222222222,
              "#7201a8"
             ],
             [
              0.3333333333333333,
              "#9c179e"
             ],
             [
              0.4444444444444444,
              "#bd3786"
             ],
             [
              0.5555555555555556,
              "#d8576b"
             ],
             [
              0.6666666666666666,
              "#ed7953"
             ],
             [
              0.7777777777777778,
              "#fb9f3a"
             ],
             [
              0.8888888888888888,
              "#fdca26"
             ],
             [
              1.0,
              "#f0f921"
             ]
            ]
           }
          ],
          "heatmap": [
           {
            "type": "heatmap",
            "colorbar": {
             "outlinewidth": 0,
             "ticks": ""
            },
            "colorscale": [
             [
              0.0,
              "#0d0887"
             ],
             [
              0.1111111111111111,
              "#46039f"
             ],
             [
              0.2222222222222222,
              "#7201a8"
             ],
             [
              0.3333333333333333,
              "#9c179e"
             ],
             [
              0.4444444444444444,
              "#bd3786"
             ],
             [
              0.5555555555555556,
              "#d8576b"
             ],
             [
              0.6666666666666666,
              "#ed7953"
             ],
             [
              0.7777777777777778,
              "#fb9f3a"
             ],
             [
              0.8888888888888888,
              "#fdca26"
             ],
             [
              1.0,
              "#f0f921"
             ]
            ]
           }
          ],
          "heatmapgl": [
           {
            "type": "heatmapgl",
            "colorbar": {
             "outlinewidth": 0,
             "ticks": ""
            },
            "colorscale": [
             [
              0.0,
              "#0d0887"
             ],
             [
              0.1111111111111111,
              "#46039f"
             ],
             [
              0.2222222222222222,
              "#7201a8"
             ],
             [
              0.3333333333333333,
              "#9c179e"
             ],
             [
              0.4444444444444444,
              "#bd3786"
             ],
             [
              0.5555555555555556,
              "#d8576b"
             ],
             [
              0.6666666666666666,
              "#ed7953"
             ],
             [
              0.7777777777777778,
              "#fb9f3a"
             ],
             [
              0.8888888888888888,
              "#fdca26"
             ],
             [
              1.0,
              "#f0f921"
             ]
            ]
           }
          ],
          "contourcarpet": [
           {
            "type": "contourcarpet",
            "colorbar": {
             "outlinewidth": 0,
             "ticks": ""
            }
           }
          ],
          "contour": [
           {
            "type": "contour",
            "colorbar": {
             "outlinewidth": 0,
             "ticks": ""
            },
            "colorscale": [
             [
              0.0,
              "#0d0887"
             ],
             [
              0.1111111111111111,
              "#46039f"
             ],
             [
              0.2222222222222222,
              "#7201a8"
             ],
             [
              0.3333333333333333,
              "#9c179e"
             ],
             [
              0.4444444444444444,
              "#bd3786"
             ],
             [
              0.5555555555555556,
              "#d8576b"
             ],
             [
              0.6666666666666666,
              "#ed7953"
             ],
             [
              0.7777777777777778,
              "#fb9f3a"
             ],
             [
              0.8888888888888888,
              "#fdca26"
             ],
             [
              1.0,
              "#f0f921"
             ]
            ]
           }
          ],
          "surface": [
           {
            "type": "surface",
            "colorbar": {
             "outlinewidth": 0,
             "ticks": ""
            },
            "colorscale": [
             [
              0.0,
              "#0d0887"
             ],
             [
              0.1111111111111111,
              "#46039f"
             ],
             [
              0.2222222222222222,
              "#7201a8"
             ],
             [
              0.3333333333333333,
              "#9c179e"
             ],
             [
              0.4444444444444444,
              "#bd3786"
             ],
             [
              0.5555555555555556,
              "#d8576b"
             ],
             [
              0.6666666666666666,
              "#ed7953"
             ],
             [
              0.7777777777777778,
              "#fb9f3a"
             ],
             [
              0.8888888888888888,
              "#fdca26"
             ],
             [
              1.0,
              "#f0f921"
             ]
            ]
           }
          ],
          "mesh3d": [
           {
            "type": "mesh3d",
            "colorbar": {
             "outlinewidth": 0,
             "ticks": ""
            }
           }
          ],
          "scatter": [
           {
            "fillpattern": {
             "fillmode": "overlay",
             "size": 10,
             "solidity": 0.2
            },
            "type": "scatter"
           }
          ],
          "parcoords": [
           {
            "type": "parcoords",
            "line": {
             "colorbar": {
              "outlinewidth": 0,
              "ticks": ""
             }
            }
           }
          ],
          "scatterpolargl": [
           {
            "type": "scatterpolargl",
            "marker": {
             "colorbar": {
              "outlinewidth": 0,
              "ticks": ""
             }
            }
           }
          ],
          "bar": [
           {
            "error_x": {
             "color": "#2a3f5f"
            },
            "error_y": {
             "color": "#2a3f5f"
            },
            "marker": {
             "line": {
              "color": "#E5ECF6",
              "width": 0.5
             },
             "pattern": {
              "fillmode": "overlay",
              "size": 10,
              "solidity": 0.2
             }
            },
            "type": "bar"
           }
          ],
          "scattergeo": [
           {
            "type": "scattergeo",
            "marker": {
             "colorbar": {
              "outlinewidth": 0,
              "ticks": ""
             }
            }
           }
          ],
          "scatterpolar": [
           {
            "type": "scatterpolar",
            "marker": {
             "colorbar": {
              "outlinewidth": 0,
              "ticks": ""
             }
            }
           }
          ],
          "histogram": [
           {
            "marker": {
             "pattern": {
              "fillmode": "overlay",
              "size": 10,
              "solidity": 0.2
             }
            },
            "type": "histogram"
           }
          ],
          "scattergl": [
           {
            "type": "scattergl",
            "marker": {
             "colorbar": {
              "outlinewidth": 0,
              "ticks": ""
             }
            }
           }
          ],
          "scatter3d": [
           {
            "type": "scatter3d",
            "line": {
             "colorbar": {
              "outlinewidth": 0,
              "ticks": ""
             }
            },
            "marker": {
             "colorbar": {
              "outlinewidth": 0,
              "ticks": ""
             }
            }
           }
          ],
          "scattermapbox": [
           {
            "type": "scattermapbox",
            "marker": {
             "colorbar": {
              "outlinewidth": 0,
              "ticks": ""
             }
            }
           }
          ],
          "scatterternary": [
           {
            "type": "scatterternary",
            "marker": {
             "colorbar": {
              "outlinewidth": 0,
              "ticks": ""
             }
            }
           }
          ],
          "scattercarpet": [
           {
            "type": "scattercarpet",
            "marker": {
             "colorbar": {
              "outlinewidth": 0,
              "ticks": ""
             }
            }
           }
          ],
          "carpet": [
           {
            "aaxis": {
             "endlinecolor": "#2a3f5f",
             "gridcolor": "white",
             "linecolor": "white",
             "minorgridcolor": "white",
             "startlinecolor": "#2a3f5f"
            },
            "baxis": {
             "endlinecolor": "#2a3f5f",
             "gridcolor": "white",
             "linecolor": "white",
             "minorgridcolor": "white",
             "startlinecolor": "#2a3f5f"
            },
            "type": "carpet"
           }
          ],
          "table": [
           {
            "cells": {
             "fill": {
              "color": "#EBF0F8"
             },
             "line": {
              "color": "white"
             }
            },
            "header": {
             "fill": {
              "color": "#C8D4E3"
             },
             "line": {
              "color": "white"
             }
            },
            "type": "table"
           }
          ],
          "barpolar": [
           {
            "marker": {
             "line": {
              "color": "#E5ECF6",
              "width": 0.5
             },
             "pattern": {
              "fillmode": "overlay",
              "size": 10,
              "solidity": 0.2
             }
            },
            "type": "barpolar"
           }
          ],
          "pie": [
           {
            "automargin": true,
            "type": "pie"
           }
          ]
         },
         "layout": {
          "autotypenumbers": "strict",
          "colorway": [
           "#636efa",
           "#EF553B",
           "#00cc96",
           "#ab63fa",
           "#FFA15A",
           "#19d3f3",
           "#FF6692",
           "#B6E880",
           "#FF97FF",
           "#FECB52"
          ],
          "font": {
           "color": "#2a3f5f"
          },
          "hovermode": "closest",
          "hoverlabel": {
           "align": "left"
          },
          "paper_bgcolor": "white",
          "plot_bgcolor": "#E5ECF6",
          "polar": {
           "bgcolor": "#E5ECF6",
           "angularaxis": {
            "gridcolor": "white",
            "linecolor": "white",
            "ticks": ""
           },
           "radialaxis": {
            "gridcolor": "white",
            "linecolor": "white",
            "ticks": ""
           }
          },
          "ternary": {
           "bgcolor": "#E5ECF6",
           "aaxis": {
            "gridcolor": "white",
            "linecolor": "white",
            "ticks": ""
           },
           "baxis": {
            "gridcolor": "white",
            "linecolor": "white",
            "ticks": ""
           },
           "caxis": {
            "gridcolor": "white",
            "linecolor": "white",
            "ticks": ""
           }
          },
          "coloraxis": {
           "colorbar": {
            "outlinewidth": 0,
            "ticks": ""
           }
          },
          "colorscale": {
           "sequential": [
            [
             0.0,
             "#0d0887"
            ],
            [
             0.1111111111111111,
             "#46039f"
            ],
            [
             0.2222222222222222,
             "#7201a8"
            ],
            [
             0.3333333333333333,
             "#9c179e"
            ],
            [
             0.4444444444444444,
             "#bd3786"
            ],
            [
             0.5555555555555556,
             "#d8576b"
            ],
            [
             0.6666666666666666,
             "#ed7953"
            ],
            [
             0.7777777777777778,
             "#fb9f3a"
            ],
            [
             0.8888888888888888,
             "#fdca26"
            ],
            [
             1.0,
             "#f0f921"
            ]
           ],
           "sequentialminus": [
            [
             0.0,
             "#0d0887"
            ],
            [
             0.1111111111111111,
             "#46039f"
            ],
            [
             0.2222222222222222,
             "#7201a8"
            ],
            [
             0.3333333333333333,
             "#9c179e"
            ],
            [
             0.4444444444444444,
             "#bd3786"
            ],
            [
             0.5555555555555556,
             "#d8576b"
            ],
            [
             0.6666666666666666,
             "#ed7953"
            ],
            [
             0.7777777777777778,
             "#fb9f3a"
            ],
            [
             0.8888888888888888,
             "#fdca26"
            ],
            [
             1.0,
             "#f0f921"
            ]
           ],
           "diverging": [
            [
             0,
             "#8e0152"
            ],
            [
             0.1,
             "#c51b7d"
            ],
            [
             0.2,
             "#de77ae"
            ],
            [
             0.3,
             "#f1b6da"
            ],
            [
             0.4,
             "#fde0ef"
            ],
            [
             0.5,
             "#f7f7f7"
            ],
            [
             0.6,
             "#e6f5d0"
            ],
            [
             0.7,
             "#b8e186"
            ],
            [
             0.8,
             "#7fbc41"
            ],
            [
             0.9,
             "#4d9221"
            ],
            [
             1,
             "#276419"
            ]
           ]
          },
          "xaxis": {
           "gridcolor": "white",
           "linecolor": "white",
           "ticks": "",
           "title": {
            "standoff": 15
           },
           "zerolinecolor": "white",
           "automargin": true,
           "zerolinewidth": 2
          },
          "yaxis": {
           "gridcolor": "white",
           "linecolor": "white",
           "ticks": "",
           "title": {
            "standoff": 15
           },
           "zerolinecolor": "white",
           "automargin": true,
           "zerolinewidth": 2
          },
          "scene": {
           "xaxis": {
            "backgroundcolor": "#E5ECF6",
            "gridcolor": "white",
            "linecolor": "white",
            "showbackground": true,
            "ticks": "",
            "zerolinecolor": "white",
            "gridwidth": 2
           },
           "yaxis": {
            "backgroundcolor": "#E5ECF6",
            "gridcolor": "white",
            "linecolor": "white",
            "showbackground": true,
            "ticks": "",
            "zerolinecolor": "white",
            "gridwidth": 2
           },
           "zaxis": {
            "backgroundcolor": "#E5ECF6",
            "gridcolor": "white",
            "linecolor": "white",
            "showbackground": true,
            "ticks": "",
            "zerolinecolor": "white",
            "gridwidth": 2
           }
          },
          "shapedefaults": {
           "line": {
            "color": "#2a3f5f"
           }
          },
          "annotationdefaults": {
           "arrowcolor": "#2a3f5f",
           "arrowhead": 0,
           "arrowwidth": 1
          },
          "geo": {
           "bgcolor": "white",
           "landcolor": "#E5ECF6",
           "subunitcolor": "white",
           "showland": true,
           "showlakes": true,
           "lakecolor": "white"
          },
          "title": {
           "x": 0.05
          },
          "mapbox": {
           "style": "light"
          }
         }
        },
        "xaxis": {
         "anchor": "y",
         "domain": [
          0.0,
          0.45
         ],
         "title": {
          "text": "Epoch"
         }
        },
        "yaxis": {
         "anchor": "x",
         "domain": [
          0.625,
          1.0
         ],
         "title": {
          "text": "Loss"
         }
        },
        "xaxis2": {
         "anchor": "y2",
         "domain": [
          0.55,
          1.0
         ],
         "title": {
          "text": "Epoch"
         }
        },
        "yaxis2": {
         "anchor": "x2",
         "domain": [
          0.625,
          1.0
         ],
         "title": {
          "text": "Loss"
         }
        },
        "xaxis3": {
         "anchor": "y3",
         "domain": [
          0.0,
          0.45
         ],
         "title": {
          "text": "Epoch"
         }
        },
        "yaxis3": {
         "anchor": "x3",
         "domain": [
          0.0,
          0.375
         ],
         "title": {
          "text": "Accuracy [%]"
         }
        },
        "xaxis4": {
         "anchor": "y4",
         "domain": [
          0.55,
          1.0
         ],
         "title": {
          "text": "Epoch"
         }
        },
        "yaxis4": {
         "anchor": "x4",
         "domain": [
          0.0,
          0.375
         ],
         "title": {
          "text": "Accuracy [%]"
         }
        },
        "annotations": [
         {
          "font": {
           "size": 16
          },
          "showarrow": false,
          "text": "Train Loss",
          "x": 0.225,
          "xanchor": "center",
          "xref": "paper",
          "y": 1.0,
          "yanchor": "bottom",
          "yref": "paper"
         },
         {
          "font": {
           "size": 16
          },
          "showarrow": false,
          "text": "Test Loss",
          "x": 0.775,
          "xanchor": "center",
          "xref": "paper",
          "y": 1.0,
          "yanchor": "bottom",
          "yref": "paper"
         },
         {
          "font": {
           "size": 16
          },
          "showarrow": false,
          "text": "Train Accuracy",
          "x": 0.225,
          "xanchor": "center",
          "xref": "paper",
          "y": 0.375,
          "yanchor": "bottom",
          "yref": "paper"
         },
         {
          "font": {
           "size": 16
          },
          "showarrow": false,
          "text": "Test Accuracy",
          "x": 0.775,
          "xanchor": "center",
          "xref": "paper",
          "y": 0.375,
          "yanchor": "bottom",
          "yref": "paper"
         }
        ]
       },
       "config": {
        "plotlyServerURL": "https://plot.ly"
       }
      },
      "text/html": "<div>                            <div id=\"ac64a063-d1e4-42e3-9be9-559920bddd75\" class=\"plotly-graph-div\" style=\"height:525px; width:100%;\"></div>            <script type=\"text/javascript\">                require([\"plotly\"], function(Plotly) {                    window.PLOTLYENV=window.PLOTLYENV || {};                                    if (document.getElementById(\"ac64a063-d1e4-42e3-9be9-559920bddd75\")) {                    Plotly.newPlot(                        \"ac64a063-d1e4-42e3-9be9-559920bddd75\",                        [{\"hoverinfo\":\"name+y\",\"legendgroup\":\"5 Layers\",\"line\":{\"color\":\"blue\"},\"mode\":\"lines\",\"name\":\"5 Layers\",\"y\":[2.108499963645935,1.8347520250701905,1.7092593866348267,1.6217039535713196,1.5579493803596496,1.5053537645339965,1.4620842866516113,1.420341223487854,1.3811150085258483,1.3465382308197023,1.3131698400878906,1.2846770343971252,1.257114980764389,1.2271452391624451,1.1991539878559112,1.1734754171466828,1.1454407467556,1.1172639487361908,1.0906647245979308,1.0610504205513,1.0356317693996429,1.0058521210765838,0.9808488425159454,0.9493949681854248,0.925183695268631,0.8968053310585022,0.8691704018545151,0.8383458896684647,0.8084725700521469,0.7822506377196312,0.7486066784143448,0.7264620587730408,0.7048221223402024,0.6688414309358597,0.6441312162256241,0.6210896293890477,0.5918854038405419,0.5674632416367531,0.5489056394100189,0.5191322998869419,0.4977659346294403,0.478030443251133,0.45544884207367897,0.4395486815226078,0.41395590565681456,0.40086039680957797,0.38252158969163896,0.3651662785947323,0.3659553850877285,0.3471793787609041],\"type\":\"scatter\",\"xaxis\":\"x\",\"yaxis\":\"y\"},{\"hoverinfo\":\"name+y\",\"legendgroup\":\"4 Layers\",\"line\":{\"color\":\"black\"},\"mode\":\"lines\",\"name\":\"4 Layers\",\"y\":[1.9934879048538208,1.743800471611023,1.632163561782837,1.5549381497764587,1.495897802581787,1.4476152502250672,1.406187227010727,1.3661694202804566,1.3310834334373474,1.296916977596283,1.268271935119629,1.236745768175125,1.2069900045204163,1.1770675518989564,1.1462720633125305,1.1168118257045745,1.086991507911682,1.059559024734497,1.0290153459072113,1.0000378793716431,0.9693019085597991,0.9404235210227966,0.9088671476364135,0.8749051948547363,0.8445334927177429,0.8122346799325944,0.7812903108787537,0.7501740545034409,0.7179483241271972,0.6851215979027748,0.6554905570149422,0.6212336305189132,0.5920482757592201,0.5597184797930718,0.5298976430559158,0.5029897752690315,0.47950020134210586,0.4491283677905798,0.4291679902094603,0.40209239925861356,0.38081135868132115,0.35231919284939767,0.34265992140710355,0.31901311411321165,0.3011398853582144,0.288010158624053,0.266580253777504,0.257733997220695,0.24172152063682675,0.23897085990205408],\"type\":\"scatter\",\"xaxis\":\"x\",\"yaxis\":\"y\"},{\"hoverinfo\":\"name+y\",\"legendgroup\":\"2 Layers\",\"line\":{\"color\":\"gray\"},\"mode\":\"lines\",\"name\":\"2 Layers\",\"y\":[1.8831917835235596,1.691097511024475,1.6114248043823243,1.5570746554565429,1.5156223196029663,1.4790592746925355,1.4490802923583985,1.421907129611969,1.3985814504623413,1.376062225265503,1.3557400687980652,1.3382256598854065,1.321588869228363,1.303425024394989,1.2905809880638122,1.2726387325763702,1.2564830536460876,1.2453245759391784,1.2310016659164429,1.2149044147109986,1.2024838188838958,1.19135113448143,1.1794955226230621,1.1683618557739257,1.1547863128185272,1.1443709045696258,1.1309516116714478,1.1212662796497346,1.1129712134742737,1.1009677836608887,1.091025718755722,1.079401852016449,1.0672710757541657,1.0592054088115692,1.051105342144966,1.036351272649765,1.0274791777324677,1.0182634871864318,1.0105779508304595,1.0013000332927704,0.990780463476181,0.9814845951080322,0.9714504648017883,0.9648972758436203,0.9542634132766724,0.9455654809379578,0.9391633736610413,0.9276758539199829,0.9207662561130524,0.9114630216646195],\"type\":\"scatter\",\"xaxis\":\"x\",\"yaxis\":\"y\"},{\"hoverinfo\":\"name+y\",\"legendgroup\":\"BaseModel\",\"line\":{\"color\":\"orange\"},\"mode\":\"lines\",\"name\":\"BaseModel\",\"y\":[1.9447669314956666,1.7246050619506836,1.6264006231498718,1.5582334553146362,1.5068945376014709,1.4651639109611512,1.425666904220581,1.3929097122573852,1.3603759949493408,1.3354503584480286,1.306615334148407,1.2829810798454284,1.2587342044830323,1.2341309056663514,1.2143988430023194,1.1902363724422456,1.1679631369304657,1.1519479838085174,1.130395508852005,1.109894650297165,1.0918633601665497,1.0701662253856659,1.0541087239933014,1.037151761856079,1.0152066776180266,0.9973391600513458,0.9824958049297333,0.9630295471382141,0.9448121667098999,0.9240953047466278,0.9092952703666687,0.8921917771482467,0.8730595661449433,0.8574420951318741,0.839639254374504,0.8235211759185791,0.8062353079032898,0.7871460810947418,0.7687846211099625,0.7510485057735443,0.7375186421132087,0.7195311953878403,0.704909516506195,0.6850495828771591,0.672652720746994,0.6575985349130631,0.6394310154199601,0.622987722672224,0.6154418856072426,0.6004015681600571],\"type\":\"scatter\",\"xaxis\":\"x\",\"yaxis\":\"y\"},{\"hoverinfo\":\"name+y\",\"legendgroup\":\"5 Layers\",\"line\":{\"color\":\"blue\"},\"mode\":\"lines\",\"name\":\"5 Layers\",\"showlegend\":false,\"y\":[0.12302148342132568,0.11432067304849625,0.10099010914564133,0.09979332983493805,0.0958358570933342,0.09185747802257538,0.09205746650695801,0.08749805390834808,0.09102588891983032,0.08438915014266968,0.08598051965236664,0.08796878904104233,0.08441703021526337,0.08336548507213593,0.08413058519363403,0.08223051577806473,0.08365163207054138,0.08158015459775925,0.08282043039798737,0.08418723195791245,0.08712728321552277,0.08095616102218628,0.08091707527637482,0.08602728694677353,0.08534234017133713,0.08376621454954147,0.08366518467664719,0.08636646717786789,0.08570054918527603,0.08551241457462311,0.09040982276201248,0.09218908846378326,0.09208186715841293,0.09639417380094528,0.09986252337694168,0.09829019755125046,0.10092389583587646,0.10263388603925705,0.09864041209220886,0.10852779448032379,0.11054624617099762,0.11061017960309982,0.11242133378982544,0.11634647101163864,0.11640267074108124,0.12208589911460876,0.13201875984668732,0.12755700945854187,0.1263292133808136,0.13175523281097412],\"type\":\"scatter\",\"xaxis\":\"x2\",\"yaxis\":\"y2\"},{\"hoverinfo\":\"name+y\",\"legendgroup\":\"4 Layers\",\"line\":{\"color\":\"black\"},\"mode\":\"lines\",\"name\":\"4 Layers\",\"showlegend\":false,\"y\":[0.1129290983080864,0.10364800691604614,0.09925053268671036,0.09679123014211655,0.09138435125350952,0.09279433637857437,0.08901092410087585,0.09037857502698898,0.08659501373767853,0.08703015744686127,0.08586833626031876,0.08769600093364716,0.08513891696929932,0.08186337351799011,0.08497586101293564,0.08292926102876663,0.08005449920892715,0.08306676149368286,0.08055610954761505,0.0839759111404419,0.08048161119222641,0.08486481010913849,0.08658871799707413,0.08357657492160797,0.08303950726985931,0.0882963016629219,0.0854588970541954,0.08383125066757202,0.09102726727724075,0.0907326340675354,0.08820658922195435,0.09335385262966156,0.09841868281364441,0.0972670316696167,0.10046876221895218,0.10029313713312149,0.10637695342302322,0.10482409596443176,0.10521455854177475,0.10999807715415955,0.11576392501592636,0.1157112792134285,0.1165413036942482,0.1288125365972519,0.11944884806871414,0.1309184432029724,0.13275079429149628,0.13052448630332947,0.13511061668395996,0.15328942239284515],\"type\":\"scatter\",\"xaxis\":\"x2\",\"yaxis\":\"y2\"},{\"hoverinfo\":\"name+y\",\"legendgroup\":\"2 Layers\",\"line\":{\"color\":\"gray\"},\"mode\":\"lines\",\"name\":\"2 Layers\",\"showlegend\":false,\"y\":[0.10807609558105469,0.10217814892530441,0.1003602147102356,0.09652163088321686,0.0966467410326004,0.09444042295217514,0.09219474345445633,0.09228529781103134,0.09239079803228378,0.08726633340120316,0.08738406002521515,0.08932136744260788,0.0924246683716774,0.08795084059238434,0.0876278206706047,0.08791237324476242,0.0851614698767662,0.08705040067434311,0.0871918648481369,0.08493025600910187,0.0879138633608818,0.08497266471385956,0.08672051876783371,0.09125633537769318,0.08571665734052658,0.08620142936706543,0.08682876080274582,0.0883827954530716,0.08838187903165817,0.08441968262195587,0.08557463437318802,0.08422384411096573,0.08519163727760315,0.08761657774448395,0.08709409832954407,0.08876129239797592,0.09029864519834518,0.08762982487678528,0.08807147294282913,0.0886022299528122,0.08851461112499237,0.08748560398817062,0.08679716289043427,0.08830602467060089,0.0906098335981369,0.09522981196641922,0.08866989612579346,0.09143370389938354,0.08999340981245041,0.08964579552412033],\"type\":\"scatter\",\"xaxis\":\"x2\",\"yaxis\":\"y2\"},{\"hoverinfo\":\"name+y\",\"legendgroup\":\"BaseModel\",\"line\":{\"color\":\"orange\"},\"mode\":\"lines\",\"name\":\"BaseModel\",\"showlegend\":false,\"y\":[0.11376160383224487,0.10207866132259369,0.09942951798439026,0.09586360305547714,0.09506715089082718,0.09014476835727692,0.08832867443561554,0.0882456973195076,0.08717293292284012,0.08672302216291428,0.08794991672039032,0.09078126400709152,0.0877440944314003,0.08293812721967697,0.0837923064827919,0.08137912303209305,0.08531489968299866,0.08192799240350723,0.0809004157781601,0.0842115581035614,0.08253118395805359,0.08412984013557434,0.08075065165758133,0.08186013251543045,0.08208794891834259,0.08649874478578568,0.08407056331634521,0.08217081427574158,0.08174866437911987,0.08688163757324219,0.08737174421548843,0.08353043347597122,0.0838257297873497,0.08701682090759277,0.08859464526176453,0.08749525249004364,0.08671200275421143,0.0893867015838623,0.08587639033794403,0.09011071920394897,0.08983484655618668,0.09170090407133102,0.0925796627998352,0.09502708166837692,0.09309769421815872,0.09837918728590012,0.10021264106035233,0.10245612263679504,0.10171887278556824,0.09990287572145462],\"type\":\"scatter\",\"xaxis\":\"x2\",\"yaxis\":\"y2\"},{\"hoverinfo\":\"name+y\",\"legendgroup\":\"5 Layers\",\"line\":{\"color\":\"blue\"},\"mode\":\"lines\",\"name\":\"5 Layers\",\"showlegend\":false,\"y\":[27.192,34.566,42.222,42.544,45.498,48.418,48.71,51.75,50.644,55.002,54.656,53.026,56.316,58.5,57.848,59.87,60.346,61.892,63.534,62.652,62.104,66.198,68.286,66.194,68.508,70.678,70.91,71.11,74.306,76.462,75.1,74.808,79.624,77.118,77.878,80.726,78.886,81.492,84.312,82.216,83.628,85.83,85.3,85.724,86.704,87.436,86.014,88.232,89.62,89.166],\"type\":\"scatter\",\"xaxis\":\"x3\",\"yaxis\":\"y3\"},{\"hoverinfo\":\"name+y\",\"legendgroup\":\"4 Layers\",\"line\":{\"color\":\"black\"},\"mode\":\"lines\",\"name\":\"4 Layers\",\"showlegend\":false,\"y\":[34.786,39.968,43.846,45.814,48.622,48.946,51.62,50.716,54.28,55.088,55.65,54.574,57.986,60.036,58.934,61.484,64.294,63.138,65.97,65.79,68.898,68.248,67.432,70.698,72.96,70.796,74.714,77.67,74.23,76.548,80.668,80.12,79.376,82.416,82.172,83.894,84.408,86.242,86.542,87.514,86.362,89.746,91.208,88.072,92.704,91.124,91.184,92.65,92.202,88.146],\"type\":\"scatter\",\"xaxis\":\"x3\",\"yaxis\":\"y3\"},{\"hoverinfo\":\"name+y\",\"legendgroup\":\"2 Layers\",\"line\":{\"color\":\"gray\"},\"mode\":\"lines\",\"name\":\"2 Layers\",\"showlegend\":false,\"y\":[38.924,42.6,43.912,46.244,46.112,48.252,50.138,49.77,51.302,54.322,54.326,53.18,52.29,55.576,55.976,56.502,57.93,57.002,57.2,59.562,58.124,60.33,59.296,57.802,60.788,60.528,61.362,61.37,61.224,63.074,63.006,64.974,65.068,63.322,64.152,64.16,63.666,65.712,65.648,65.322,65.976,67.232,68.596,67.486,66.406,64.4,69.264,68.34,69.112,69.904],\"type\":\"scatter\",\"xaxis\":\"x3\",\"yaxis\":\"y3\"},{\"hoverinfo\":\"name+y\",\"legendgroup\":\"BaseModel\",\"line\":{\"color\":\"orange\"},\"mode\":\"lines\",\"name\":\"BaseModel\",\"showlegend\":false,\"y\":[34.05,41.802,43.716,46.216,46.66,50.388,51.868,52.428,53.302,54.006,52.424,52.79,55.236,58.184,57.768,60.232,58.27,62.01,62.044,60.51,62.796,62.596,65.124,65.624,65.92,65.082,65.908,67.668,69.878,66.64,67.49,70.838,71.502,70.538,71.152,72.1,73.288,74.072,75.976,75.312,76.98,76.624,76.792,75.736,78.772,77.822,78.572,78.484,79.564,80.716],\"type\":\"scatter\",\"xaxis\":\"x3\",\"yaxis\":\"y3\"},{\"hoverinfo\":\"name+y\",\"legendgroup\":\"5 Layers\",\"line\":{\"color\":\"blue\"},\"mode\":\"lines\",\"name\":\"5 Layers\",\"showlegend\":false,\"y\":[27.16,34.67,41.93,41.82,45.42,46.92,47.14,49.82,48.13,51.89,51.55,48.74,51.17,52.41,52.2,53.55,53.2,53.4,53.89,52.48,51.61,54.24,55.34,53.06,54.31,54.84,54.89,53.46,55.14,55.27,54.22,53.75,55.03,54.09,54.42,54.64,53.3,54.74,55.29,53.77,53.97,55.02,54.33,54.62,53.86,55.56,54.26,53.84,55.09,54.79],\"type\":\"scatter\",\"xaxis\":\"x4\",\"yaxis\":\"y4\"},{\"hoverinfo\":\"name+y\",\"legendgroup\":\"4 Layers\",\"line\":{\"color\":\"black\"},\"mode\":\"lines\",\"name\":\"4 Layers\",\"showlegend\":false,\"y\":[33.93,40.46,43.61,45.02,47.41,47.46,49.23,48.11,51.25,51.05,51.26,49.99,51.79,53.1,51.78,53.26,54.83,53.61,55.37,54.34,55.34,54.12,53.11,54.27,55.06,54.31,55.39,55.79,54.39,53.19,56.34,55.37,54.72,55.63,55.2,55.24,55.1,55.01,55.52,56.13,54.59,56.29,56.81,54.66,56.45,55.24,54.68,55.65,55.96,54.4],\"type\":\"scatter\",\"xaxis\":\"x4\",\"yaxis\":\"y4\"},{\"hoverinfo\":\"name+y\",\"legendgroup\":\"2 Layers\",\"line\":{\"color\":\"gray\"},\"mode\":\"lines\",\"name\":\"2 Layers\",\"showlegend\":false,\"y\":[38.81,41.76,42.98,44.99,44.67,46.94,47.65,47.43,48.55,50.3,50.51,49.67,47.95,50.2,51.1,50.6,51.71,51.08,51.15,52.48,50.7,52.72,51.57,49.58,52.3,51.68,51.94,51.91,51.44,52.9,52.35,53.48,53.31,52.1,53.11,51.84,51.36,52.14,53.06,52.23,52.85,52.89,52.72,52.95,52.04,50.53,52.18,52.86,52.61,52.73],\"type\":\"scatter\",\"xaxis\":\"x4\",\"yaxis\":\"y4\"},{\"hoverinfo\":\"name+y\",\"legendgroup\":\"BaseModel\",\"line\":{\"color\":\"orange\"},\"mode\":\"lines\",\"name\":\"BaseModel\",\"showlegend\":false,\"y\":[34.52,42.04,43.58,45.24,46.08,48.79,49.75,49.77,50.13,50.66,49.01,49.45,50.65,53.01,52.76,53.89,51.78,53.96,53.85,51.93,53.2,52.97,53.79,54.21,53.67,53.49,53.39,54.98,54.89,53.18,52.84,54.5,54.9,54.2,53.41,53.9,54.1,54.14,55.47,55.03,54.61,54.31,53.92,52.94,54.78,54.27,53.42,53.78,54.24,54.89],\"type\":\"scatter\",\"xaxis\":\"x4\",\"yaxis\":\"y4\"}],                        {\"template\":{\"data\":{\"histogram2dcontour\":[{\"type\":\"histogram2dcontour\",\"colorbar\":{\"outlinewidth\":0,\"ticks\":\"\"},\"colorscale\":[[0.0,\"#0d0887\"],[0.1111111111111111,\"#46039f\"],[0.2222222222222222,\"#7201a8\"],[0.3333333333333333,\"#9c179e\"],[0.4444444444444444,\"#bd3786\"],[0.5555555555555556,\"#d8576b\"],[0.6666666666666666,\"#ed7953\"],[0.7777777777777778,\"#fb9f3a\"],[0.8888888888888888,\"#fdca26\"],[1.0,\"#f0f921\"]]}],\"choropleth\":[{\"type\":\"choropleth\",\"colorbar\":{\"outlinewidth\":0,\"ticks\":\"\"}}],\"histogram2d\":[{\"type\":\"histogram2d\",\"colorbar\":{\"outlinewidth\":0,\"ticks\":\"\"},\"colorscale\":[[0.0,\"#0d0887\"],[0.1111111111111111,\"#46039f\"],[0.2222222222222222,\"#7201a8\"],[0.3333333333333333,\"#9c179e\"],[0.4444444444444444,\"#bd3786\"],[0.5555555555555556,\"#d8576b\"],[0.6666666666666666,\"#ed7953\"],[0.7777777777777778,\"#fb9f3a\"],[0.8888888888888888,\"#fdca26\"],[1.0,\"#f0f921\"]]}],\"heatmap\":[{\"type\":\"heatmap\",\"colorbar\":{\"outlinewidth\":0,\"ticks\":\"\"},\"colorscale\":[[0.0,\"#0d0887\"],[0.1111111111111111,\"#46039f\"],[0.2222222222222222,\"#7201a8\"],[0.3333333333333333,\"#9c179e\"],[0.4444444444444444,\"#bd3786\"],[0.5555555555555556,\"#d8576b\"],[0.6666666666666666,\"#ed7953\"],[0.7777777777777778,\"#fb9f3a\"],[0.8888888888888888,\"#fdca26\"],[1.0,\"#f0f921\"]]}],\"heatmapgl\":[{\"type\":\"heatmapgl\",\"colorbar\":{\"outlinewidth\":0,\"ticks\":\"\"},\"colorscale\":[[0.0,\"#0d0887\"],[0.1111111111111111,\"#46039f\"],[0.2222222222222222,\"#7201a8\"],[0.3333333333333333,\"#9c179e\"],[0.4444444444444444,\"#bd3786\"],[0.5555555555555556,\"#d8576b\"],[0.6666666666666666,\"#ed7953\"],[0.7777777777777778,\"#fb9f3a\"],[0.8888888888888888,\"#fdca26\"],[1.0,\"#f0f921\"]]}],\"contourcarpet\":[{\"type\":\"contourcarpet\",\"colorbar\":{\"outlinewidth\":0,\"ticks\":\"\"}}],\"contour\":[{\"type\":\"contour\",\"colorbar\":{\"outlinewidth\":0,\"ticks\":\"\"},\"colorscale\":[[0.0,\"#0d0887\"],[0.1111111111111111,\"#46039f\"],[0.2222222222222222,\"#7201a8\"],[0.3333333333333333,\"#9c179e\"],[0.4444444444444444,\"#bd3786\"],[0.5555555555555556,\"#d8576b\"],[0.6666666666666666,\"#ed7953\"],[0.7777777777777778,\"#fb9f3a\"],[0.8888888888888888,\"#fdca26\"],[1.0,\"#f0f921\"]]}],\"surface\":[{\"type\":\"surface\",\"colorbar\":{\"outlinewidth\":0,\"ticks\":\"\"},\"colorscale\":[[0.0,\"#0d0887\"],[0.1111111111111111,\"#46039f\"],[0.2222222222222222,\"#7201a8\"],[0.3333333333333333,\"#9c179e\"],[0.4444444444444444,\"#bd3786\"],[0.5555555555555556,\"#d8576b\"],[0.6666666666666666,\"#ed7953\"],[0.7777777777777778,\"#fb9f3a\"],[0.8888888888888888,\"#fdca26\"],[1.0,\"#f0f921\"]]}],\"mesh3d\":[{\"type\":\"mesh3d\",\"colorbar\":{\"outlinewidth\":0,\"ticks\":\"\"}}],\"scatter\":[{\"fillpattern\":{\"fillmode\":\"overlay\",\"size\":10,\"solidity\":0.2},\"type\":\"scatter\"}],\"parcoords\":[{\"type\":\"parcoords\",\"line\":{\"colorbar\":{\"outlinewidth\":0,\"ticks\":\"\"}}}],\"scatterpolargl\":[{\"type\":\"scatterpolargl\",\"marker\":{\"colorbar\":{\"outlinewidth\":0,\"ticks\":\"\"}}}],\"bar\":[{\"error_x\":{\"color\":\"#2a3f5f\"},\"error_y\":{\"color\":\"#2a3f5f\"},\"marker\":{\"line\":{\"color\":\"#E5ECF6\",\"width\":0.5},\"pattern\":{\"fillmode\":\"overlay\",\"size\":10,\"solidity\":0.2}},\"type\":\"bar\"}],\"scattergeo\":[{\"type\":\"scattergeo\",\"marker\":{\"colorbar\":{\"outlinewidth\":0,\"ticks\":\"\"}}}],\"scatterpolar\":[{\"type\":\"scatterpolar\",\"marker\":{\"colorbar\":{\"outlinewidth\":0,\"ticks\":\"\"}}}],\"histogram\":[{\"marker\":{\"pattern\":{\"fillmode\":\"overlay\",\"size\":10,\"solidity\":0.2}},\"type\":\"histogram\"}],\"scattergl\":[{\"type\":\"scattergl\",\"marker\":{\"colorbar\":{\"outlinewidth\":0,\"ticks\":\"\"}}}],\"scatter3d\":[{\"type\":\"scatter3d\",\"line\":{\"colorbar\":{\"outlinewidth\":0,\"ticks\":\"\"}},\"marker\":{\"colorbar\":{\"outlinewidth\":0,\"ticks\":\"\"}}}],\"scattermapbox\":[{\"type\":\"scattermapbox\",\"marker\":{\"colorbar\":{\"outlinewidth\":0,\"ticks\":\"\"}}}],\"scatterternary\":[{\"type\":\"scatterternary\",\"marker\":{\"colorbar\":{\"outlinewidth\":0,\"ticks\":\"\"}}}],\"scattercarpet\":[{\"type\":\"scattercarpet\",\"marker\":{\"colorbar\":{\"outlinewidth\":0,\"ticks\":\"\"}}}],\"carpet\":[{\"aaxis\":{\"endlinecolor\":\"#2a3f5f\",\"gridcolor\":\"white\",\"linecolor\":\"white\",\"minorgridcolor\":\"white\",\"startlinecolor\":\"#2a3f5f\"},\"baxis\":{\"endlinecolor\":\"#2a3f5f\",\"gridcolor\":\"white\",\"linecolor\":\"white\",\"minorgridcolor\":\"white\",\"startlinecolor\":\"#2a3f5f\"},\"type\":\"carpet\"}],\"table\":[{\"cells\":{\"fill\":{\"color\":\"#EBF0F8\"},\"line\":{\"color\":\"white\"}},\"header\":{\"fill\":{\"color\":\"#C8D4E3\"},\"line\":{\"color\":\"white\"}},\"type\":\"table\"}],\"barpolar\":[{\"marker\":{\"line\":{\"color\":\"#E5ECF6\",\"width\":0.5},\"pattern\":{\"fillmode\":\"overlay\",\"size\":10,\"solidity\":0.2}},\"type\":\"barpolar\"}],\"pie\":[{\"automargin\":true,\"type\":\"pie\"}]},\"layout\":{\"autotypenumbers\":\"strict\",\"colorway\":[\"#636efa\",\"#EF553B\",\"#00cc96\",\"#ab63fa\",\"#FFA15A\",\"#19d3f3\",\"#FF6692\",\"#B6E880\",\"#FF97FF\",\"#FECB52\"],\"font\":{\"color\":\"#2a3f5f\"},\"hovermode\":\"closest\",\"hoverlabel\":{\"align\":\"left\"},\"paper_bgcolor\":\"white\",\"plot_bgcolor\":\"#E5ECF6\",\"polar\":{\"bgcolor\":\"#E5ECF6\",\"angularaxis\":{\"gridcolor\":\"white\",\"linecolor\":\"white\",\"ticks\":\"\"},\"radialaxis\":{\"gridcolor\":\"white\",\"linecolor\":\"white\",\"ticks\":\"\"}},\"ternary\":{\"bgcolor\":\"#E5ECF6\",\"aaxis\":{\"gridcolor\":\"white\",\"linecolor\":\"white\",\"ticks\":\"\"},\"baxis\":{\"gridcolor\":\"white\",\"linecolor\":\"white\",\"ticks\":\"\"},\"caxis\":{\"gridcolor\":\"white\",\"linecolor\":\"white\",\"ticks\":\"\"}},\"coloraxis\":{\"colorbar\":{\"outlinewidth\":0,\"ticks\":\"\"}},\"colorscale\":{\"sequential\":[[0.0,\"#0d0887\"],[0.1111111111111111,\"#46039f\"],[0.2222222222222222,\"#7201a8\"],[0.3333333333333333,\"#9c179e\"],[0.4444444444444444,\"#bd3786\"],[0.5555555555555556,\"#d8576b\"],[0.6666666666666666,\"#ed7953\"],[0.7777777777777778,\"#fb9f3a\"],[0.8888888888888888,\"#fdca26\"],[1.0,\"#f0f921\"]],\"sequentialminus\":[[0.0,\"#0d0887\"],[0.1111111111111111,\"#46039f\"],[0.2222222222222222,\"#7201a8\"],[0.3333333333333333,\"#9c179e\"],[0.4444444444444444,\"#bd3786\"],[0.5555555555555556,\"#d8576b\"],[0.6666666666666666,\"#ed7953\"],[0.7777777777777778,\"#fb9f3a\"],[0.8888888888888888,\"#fdca26\"],[1.0,\"#f0f921\"]],\"diverging\":[[0,\"#8e0152\"],[0.1,\"#c51b7d\"],[0.2,\"#de77ae\"],[0.3,\"#f1b6da\"],[0.4,\"#fde0ef\"],[0.5,\"#f7f7f7\"],[0.6,\"#e6f5d0\"],[0.7,\"#b8e186\"],[0.8,\"#7fbc41\"],[0.9,\"#4d9221\"],[1,\"#276419\"]]},\"xaxis\":{\"gridcolor\":\"white\",\"linecolor\":\"white\",\"ticks\":\"\",\"title\":{\"standoff\":15},\"zerolinecolor\":\"white\",\"automargin\":true,\"zerolinewidth\":2},\"yaxis\":{\"gridcolor\":\"white\",\"linecolor\":\"white\",\"ticks\":\"\",\"title\":{\"standoff\":15},\"zerolinecolor\":\"white\",\"automargin\":true,\"zerolinewidth\":2},\"scene\":{\"xaxis\":{\"backgroundcolor\":\"#E5ECF6\",\"gridcolor\":\"white\",\"linecolor\":\"white\",\"showbackground\":true,\"ticks\":\"\",\"zerolinecolor\":\"white\",\"gridwidth\":2},\"yaxis\":{\"backgroundcolor\":\"#E5ECF6\",\"gridcolor\":\"white\",\"linecolor\":\"white\",\"showbackground\":true,\"ticks\":\"\",\"zerolinecolor\":\"white\",\"gridwidth\":2},\"zaxis\":{\"backgroundcolor\":\"#E5ECF6\",\"gridcolor\":\"white\",\"linecolor\":\"white\",\"showbackground\":true,\"ticks\":\"\",\"zerolinecolor\":\"white\",\"gridwidth\":2}},\"shapedefaults\":{\"line\":{\"color\":\"#2a3f5f\"}},\"annotationdefaults\":{\"arrowcolor\":\"#2a3f5f\",\"arrowhead\":0,\"arrowwidth\":1},\"geo\":{\"bgcolor\":\"white\",\"landcolor\":\"#E5ECF6\",\"subunitcolor\":\"white\",\"showland\":true,\"showlakes\":true,\"lakecolor\":\"white\"},\"title\":{\"x\":0.05},\"mapbox\":{\"style\":\"light\"}}},\"xaxis\":{\"anchor\":\"y\",\"domain\":[0.0,0.45],\"title\":{\"text\":\"Epoch\"}},\"yaxis\":{\"anchor\":\"x\",\"domain\":[0.625,1.0],\"title\":{\"text\":\"Loss\"}},\"xaxis2\":{\"anchor\":\"y2\",\"domain\":[0.55,1.0],\"title\":{\"text\":\"Epoch\"}},\"yaxis2\":{\"anchor\":\"x2\",\"domain\":[0.625,1.0],\"title\":{\"text\":\"Loss\"}},\"xaxis3\":{\"anchor\":\"y3\",\"domain\":[0.0,0.45],\"title\":{\"text\":\"Epoch\"}},\"yaxis3\":{\"anchor\":\"x3\",\"domain\":[0.0,0.375],\"title\":{\"text\":\"Accuracy [%]\"}},\"xaxis4\":{\"anchor\":\"y4\",\"domain\":[0.55,1.0],\"title\":{\"text\":\"Epoch\"}},\"yaxis4\":{\"anchor\":\"x4\",\"domain\":[0.0,0.375],\"title\":{\"text\":\"Accuracy [%]\"}},\"annotations\":[{\"font\":{\"size\":16},\"showarrow\":false,\"text\":\"Train Loss\",\"x\":0.225,\"xanchor\":\"center\",\"xref\":\"paper\",\"y\":1.0,\"yanchor\":\"bottom\",\"yref\":\"paper\"},{\"font\":{\"size\":16},\"showarrow\":false,\"text\":\"Test Loss\",\"x\":0.775,\"xanchor\":\"center\",\"xref\":\"paper\",\"y\":1.0,\"yanchor\":\"bottom\",\"yref\":\"paper\"},{\"font\":{\"size\":16},\"showarrow\":false,\"text\":\"Train Accuracy\",\"x\":0.225,\"xanchor\":\"center\",\"xref\":\"paper\",\"y\":0.375,\"yanchor\":\"bottom\",\"yref\":\"paper\"},{\"font\":{\"size\":16},\"showarrow\":false,\"text\":\"Test Accuracy\",\"x\":0.775,\"xanchor\":\"center\",\"xref\":\"paper\",\"y\":0.375,\"yanchor\":\"bottom\",\"yref\":\"paper\"}]},                        {\"responsive\": true}                    ).then(function(){\n                            \nvar gd = document.getElementById('ac64a063-d1e4-42e3-9be9-559920bddd75');\nvar x = new MutationObserver(function (mutations, observer) {{\n        var display = window.getComputedStyle(gd).display;\n        if (!display || display === 'none') {{\n            console.log([gd, 'removed!']);\n            Plotly.purge(gd);\n            observer.disconnect();\n        }}\n}});\n\n// Listen for the removal of the full notebook cells\nvar notebookContainer = gd.closest('#notebook-container');\nif (notebookContainer) {{\n    x.observe(notebookContainer, {childList: true});\n}}\n\n// Listen for the clearing of the current output cell\nvar outputEl = gd.closest('.output');\nif (outputEl) {{\n    x.observe(outputEl, {childList: true});\n}}\n\n                        })                };                });            </script>        </div>"
     },
     "metadata": {},
     "output_type": "display_data"
    }
   ],
   "source": [
    "import plotly.graph_objects as go\n",
    "from plotly.subplots import make_subplots\n",
    "\n",
    "# Define colors for each label\n",
    "color_map = {\n",
    "    '5 Layers': 'blue',\n",
    "    '4 Layers': 'black',\n",
    "    '2 Layers': 'gray',\n",
    "    'BaseModel': 'orange'\n",
    "}\n",
    "\n",
    "# Create a 2x2 grid of subplots\n",
    "fig = make_subplots(rows=2, cols=2, subplot_titles=(\"Train Loss\", \"Test Loss\", \"Train Accuracy\", \"Test Accuracy\"))\n",
    "\n",
    "# Row 1, Col 1 (Train Loss)\n",
    "fig.add_trace(go.Scatter(y=hist5layers['train_loss'], mode='lines', name='5 Layers', legendgroup='5 Layers', hoverinfo='name+y', line={\"color\":color_map['5 Layers']}), row=1, col=1)\n",
    "fig.add_trace(go.Scatter(y=hist4layers['train_loss'], mode='lines', name='4 Layers',  legendgroup='4 Layers', hoverinfo='name+y', line={\"color\":color_map['4 Layers']}), row=1, col=1)\n",
    "fig.add_trace(go.Scatter(y=hist2layers['train_loss'], mode='lines', name='2 Layers', legendgroup='2 Layers', hoverinfo='name+y', line={\"color\":color_map['2 Layers']}), row=1, col=1)\n",
    "fig.add_trace(go.Scatter(y=histBaseModel['train_loss'], mode='lines', name='BaseModel', legendgroup='BaseModel', hoverinfo='name+y', line={\"color\":color_map['BaseModel']}), row=1, col=1)\n",
    "\n",
    "# Row 1, Col 2 (Test Loss)\n",
    "fig.add_trace(go.Scatter(y=hist5layers['test_loss'], mode='lines', name='5 Layers', legendgroup='5 Layers', hoverinfo='name+y', showlegend=False, line={\"color\":color_map['5 Layers']}), row=1, col=2)\n",
    "fig.add_trace(go.Scatter(y=hist4layers['test_loss'], mode='lines', name='4 Layers', legendgroup='4 Layers', hoverinfo='name+y', showlegend=False, line={\"color\":color_map['4 Layers']}), row=1, col=2)\n",
    "fig.add_trace(go.Scatter(y=hist2layers['test_loss'], mode='lines', name='2 Layers', legendgroup='2 Layers', hoverinfo='name+y', showlegend=False, line={\"color\":color_map['2 Layers']}), row=1, col=2)\n",
    "fig.add_trace(go.Scatter(y=histBaseModel['test_loss'], mode='lines', name='BaseModel', legendgroup='BaseModel', hoverinfo='name+y', showlegend=False, line={\"color\":color_map['BaseModel']}), row=1, col=2)\n",
    "\n",
    "# Row 2, Col 1 (Train Accuracy)\n",
    "fig.add_trace(go.Scatter(y=hist5layers['train_accuracy'], mode='lines', name='5 Layers', legendgroup='5 Layers', hoverinfo='name+y', showlegend=False, line={\"color\":color_map['5 Layers']}), row=2, col=1)\n",
    "fig.add_trace(go.Scatter(y=hist4layers['train_accuracy'], mode='lines', name='4 Layers', legendgroup='4 Layers', hoverinfo='name+y', showlegend=False, line={\"color\":color_map['4 Layers']}), row=2, col=1)\n",
    "fig.add_trace(go.Scatter(y=hist2layers['train_accuracy'], mode='lines', name='2 Layers', legendgroup='2 Layers', hoverinfo='name+y', showlegend=False, line={\"color\":color_map['2 Layers']}), row=2, col=1)\n",
    "fig.add_trace(go.Scatter(y=histBaseModel['train_accuracy'], mode='lines', name='BaseModel', legendgroup='BaseModel', hoverinfo='name+y', showlegend=False, line={\"color\":color_map['BaseModel']}), row=2, col=1)\n",
    "\n",
    "# Row 2, Col 2 (Test Accuracy)\n",
    "fig.add_trace(go.Scatter(y=hist5layers['test_accuracy'], mode='lines', name='5 Layers', legendgroup='5 Layers', hoverinfo='name+y', showlegend=False, line={\"color\":color_map['5 Layers']}), row=2, col=2)\n",
    "fig.add_trace(go.Scatter(y=hist4layers['test_accuracy'], mode='lines', name='4 Layers', legendgroup='4 Layers', hoverinfo='name+y', showlegend=False, line={\"color\":color_map['4 Layers']}), row=2, col=2)\n",
    "fig.add_trace(go.Scatter(y=hist2layers['test_accuracy'], mode='lines', name='2 Layers', legendgroup='2 Layers', hoverinfo='name+y', showlegend=False, line={\"color\":color_map['2 Layers']}), row=2, col=2)\n",
    "fig.add_trace(go.Scatter(y=histBaseModel['test_accuracy'], mode='lines', name='BaseModel', legendgroup='BaseModel', hoverinfo='name+y', showlegend=False, line={\"color\":color_map['BaseModel']}), row=2, col=2)\n",
    "\n",
    "# Set x-axis and y-axis labels for each subplot\n",
    "fig.update_xaxes(title_text='Epoch', row=1, col=1)\n",
    "fig.update_xaxes(title_text='Epoch', row=1, col=2)\n",
    "fig.update_xaxes(title_text='Epoch', row=2, col=1)\n",
    "fig.update_xaxes(title_text='Epoch', row=2, col=2)\n",
    "\n",
    "fig.update_yaxes(title_text='Loss', row=1, col=1)\n",
    "fig.update_yaxes(title_text='Loss', row=1, col=2)\n",
    "fig.update_yaxes(title_text='Accuracy [%]', row=2, col=1)\n",
    "fig.update_yaxes(title_text='Accuracy [%]', row=2, col=2)\n",
    "\n",
    "# Show the figure\n",
    "fig.show()\n"
   ],
   "metadata": {
    "collapsed": false,
    "ExecuteTime": {
     "end_time": "2024-09-18T14:40:47.741940100Z",
     "start_time": "2024-09-18T14:40:47.601551100Z"
    }
   },
   "id": "a60e49dddf8216ae",
   "execution_count": 12
  },
  {
   "cell_type": "markdown",
   "source": [
    "TODO: Analyse "
   ],
   "metadata": {
    "collapsed": false
   },
   "id": "c5f469c165e5e13d"
  },
  {
   "cell_type": "markdown",
   "source": [
    "### Layergröße\n",
    "#### Grosse Layer\n"
   ],
   "metadata": {
    "collapsed": false
   },
   "id": "3a6a13bba3e00110"
  },
  {
   "cell_type": "code",
   "outputs": [],
   "source": [],
   "metadata": {
    "collapsed": false
   },
   "id": "76e7590ad69599d8"
  },
  {
   "cell_type": "markdown",
   "source": [
    "#### Kleine Layer\n"
   ],
   "metadata": {
    "collapsed": false
   },
   "id": "f9493b1d05998f22"
  },
  {
   "cell_type": "code",
   "outputs": [],
   "source": [],
   "metadata": {
    "collapsed": false
   },
   "id": "8be535cfab1154e9"
  },
  {
   "cell_type": "markdown",
   "source": [
    "TODO: Analyse"
   ],
   "metadata": {
    "collapsed": false
   },
   "id": "4011a09c03f4dbb1"
  },
  {
   "cell_type": "markdown",
   "source": [
    "### Learning Rate"
   ],
   "metadata": {
    "collapsed": false
   },
   "id": "92ef8fbdd392526e"
  },
  {
   "cell_type": "code",
   "outputs": [],
   "source": [
    "class BaseModel(nn.Module):\n",
    "    def __init__(self):\n",
    "        super(BaseModel, self).__init__()\n",
    "        self.fc1 = nn.Linear(3072, 720)\n",
    "        self.fc2 = nn.Linear(720, 120)\n",
    "        self.fc3 = nn.Linear(120, 10)\n",
    "\n",
    "    def forward(self, x):\n",
    "        x = torch.flatten(x, 1)  # flatten all dimensions except batch\n",
    "        x = F.relu(self.fc1(x))\n",
    "        x = F.relu(self.fc2(x))\n",
    "        x = self.fc3(x)\n",
    "        return x\n",
    "\n",
    "batch_size = 16\n",
    "# Base Model ist 0.01\n",
    "learning_rates = [0.0001, 0.001, 0.1, 1]\n",
    "#learning_rates = [0.01]\n",
    "epochs = 50\n",
    "\n",
    "for learning_rate in learning_rates:\n",
    "    # Loss function\n",
    "    criterion = nn.CrossEntropyLoss()\n",
    "    \n",
    "    # Optimizer\n",
    "    baseModel = BaseModel()\n",
    "    optimizer = optim.SGD(baseModel.parameters(), lr=learning_rate)\n",
    "    \n",
    "    model_class = HelperClass(baseModel, criterion, optimizer, device)\n",
    "    \n",
    "    train_loader, test_loader = prepare_data(batch_size)\n",
    "    \n",
    "    dict = {\n",
    "                \"dataset\": \"CIFAR-10\",\n",
    "                \"epochs\": epochs,\n",
    "                \"linear_layers\": 3,\n",
    "                \"learning_rate\": learning_rate,\n",
    "                \"architecture\": \"MLP\",\n",
    "                \"batch_size\": batch_size,\n",
    "                \"conv_layers\": 0,\n",
    "            }\n",
    "    \n",
    "    wandb_login(dict)\n",
    "    \n",
    "    trained_model = model_class.train(train_loader, test_loader, epochs)\n"
   ],
   "metadata": {
    "collapsed": false
   },
   "id": "f8cd676110a05e19",
   "execution_count": null
  },
  {
   "cell_type": "markdown",
   "source": [
    "Analyse"
   ],
   "metadata": {
    "collapsed": false
   },
   "id": "3b892b5c841988b1"
  },
  {
   "cell_type": "markdown",
   "source": [
    "### Batch Size"
   ],
   "metadata": {
    "collapsed": false
   },
   "id": "f500979cf1a8dbcd"
  },
  {
   "cell_type": "code",
   "outputs": [],
   "source": [
    "class BaseModel(nn.Module):\n",
    "    def __init__(self):\n",
    "        super(BaseModel, self).__init__()\n",
    "        self.fc1 = nn.Linear(3072, 720)\n",
    "        self.fc2 = nn.Linear(720, 120)\n",
    "        self.fc3 = nn.Linear(120, 10)\n",
    "\n",
    "    def forward(self, x):\n",
    "        x = torch.flatten(x, 1)  # flatten all dimensions except batch\n",
    "        x = F.relu(self.fc1(x))\n",
    "        x = F.relu(self.fc2(x))\n",
    "        x = self.fc3(x)\n",
    "        return x\n",
    "\n",
    "# Base Model ist 16\n",
    "#batch_sizes = [8, 16, 64, 256]\n",
    "batch_sizes = [32]\n",
    "# Base Model ist 0.01\n",
    "learning_rate = 0.01\n",
    "epochs = 50\n",
    "\n",
    "for batch_size in batch_sizes:\n",
    "    # Loss function\n",
    "    criterion = nn.CrossEntropyLoss()\n",
    "    \n",
    "    # Optimizer\n",
    "    baseModel = BaseModel()\n",
    "    optimizer = optim.SGD(baseModel.parameters(), lr=learning_rate)\n",
    "    \n",
    "    model_class = HelperClass(baseModel, criterion, optimizer, device)\n",
    "    \n",
    "    train_loader, test_loader = prepare_data(batch_size)\n",
    "    \n",
    "    dict = {\n",
    "                \"dataset\": \"CIFAR-10\",\n",
    "                \"epochs\": epochs,\n",
    "                \"linear_layers\": 3,\n",
    "                \"learning_rate\": learning_rate,\n",
    "                \"architecture\": \"MLP\",\n",
    "                \"batch_size\": batch_size,\n",
    "                \"conv_layers\": 0,\n",
    "            }\n",
    "    \n",
    "    wandb_login(dict)\n",
    "    \n",
    "    trained_model = model_class.train(train_loader, test_loader, epochs)"
   ],
   "metadata": {
    "collapsed": false
   },
   "id": "a40e97490e176300",
   "execution_count": null
  },
  {
   "cell_type": "markdown",
   "source": [
    " ## Model with Convolutional Layers"
   ],
   "metadata": {
    "collapsed": false
   },
   "id": "b473d30acc78b7ae"
  },
  {
   "cell_type": "code",
   "outputs": [],
   "source": [
    "class CNNModel(nn.Module):\n",
    "    def __init__(self):\n",
    "        super(CNNModel, self).__init__()\n",
    "        self.conv1 = nn.Conv2d(3, 6, 5) #28*28*6\n",
    "        self.pool = nn.MaxPool2d(2, 2) #14*14*6\n",
    "        self.fc1 = nn.Linear(1176, 1024) # 1024\n",
    "        self.fc2 = nn.Linear(1024, 512)\n",
    "        self.fc3 = nn.Linear(512, 10)\n",
    "\n",
    "    def forward(self, x):\n",
    "        x = self.pool(F.relu(self.conv1(x)))\n",
    "        x = torch.flatten(x, 1)  # flatten all dimensions except batch\n",
    "        x = F.relu(self.fc1(x))\n",
    "        x = F.relu(self.fc2(x))\n",
    "        x = self.fc3(x)\n",
    "        return x\n",
    "\n",
    "\n",
    "batch_size = 64\n",
    "learning_rate = 0.01\n",
    "epochs = 50\n",
    "\n",
    "# Loss function\n",
    "criterion = nn.CrossEntropyLoss()\n",
    "\n",
    "# Optimizer\n",
    "cnnBaseModel = CNNModel()\n",
    "optimizer = optim.SGD(cnnBaseModel.parameters(), lr=learning_rate)\n",
    "\n",
    "cnn_model_class = HelperClass(cnnBaseModel, criterion, optimizer, device)\n",
    "\n",
    "train_loader, test_loader = hp.prepare_data(batch_size)\n",
    "\n",
    "dict = {\n",
    "            \"dataset\": \"CIFAR-10\",\n",
    "            \"epochs\": epochs,\n",
    "            \"linear_layers\": 3,\n",
    "            \"learning_rate\": learning_rate,\n",
    "            \"architecture\": \"CNN\",\n",
    "            \"batch_size\": batch_size,\n",
    "            \"conv_layers\": 1,\n",
    "        }\n",
    "\n",
    "hp.wandb_login(dict)\n",
    "\n",
    "trained_model = cnn_model_class.train(train_loader, test_loader, epochs)"
   ],
   "metadata": {
    "collapsed": false
   },
   "id": "4ded6712eb829788",
   "execution_count": null
  },
  {
   "cell_type": "code",
   "outputs": [],
   "source": [
    "summary(cnnBaseModel, (3, 32, 32), batch_size)"
   ],
   "metadata": {
    "collapsed": false
   },
   "id": "a847436ac4a1fee7",
   "execution_count": null
  },
  {
   "cell_type": "markdown",
   "source": [
    "## Model with Convolutional Layers and Pooling"
   ],
   "metadata": {
    "collapsed": false
   },
   "id": "b4cbfe6c10397733"
  },
  {
   "cell_type": "code",
   "outputs": [],
   "source": [
    "import torch.nn as nn\n",
    "import torch.nn.functional as F\n",
    "import torch.optim as optim\n",
    "\n",
    "class BaseModel(nn.Module):\n",
    "    def __init__(self):\n",
    "        super(BaseModel, self).__init__()\n",
    "        self.conv1 = nn.Conv2d(3, 6, 16)\n",
    "        self.pool = nn.MaxPool2d(2, 2)\n",
    "        self.fc1 = nn.Linear(384, 120)\n",
    "        self.fc2 = nn.Linear(120, 10)\n",
    "\n",
    "    def forward(self, x):\n",
    "        x = self.pool(F.relu(self.conv1(x)))\n",
    "        x = torch.flatten(x, 1) # flatten all dimensions except batch\n",
    "        x = F.relu(self.fc1(x))\n",
    "        x = self.fc2(x)\n",
    "        return x\n",
    "\n",
    "batch_size = 16\n",
    "learning_rate = 0.001\n",
    "epochs = 100\n",
    "\n",
    "# Loss function\n",
    "criterion = nn.CrossEntropyLoss()\n",
    "\n",
    "# Optimizer\n",
    "baseModel = BaseModel().to(device)\n",
    "optimizer = optim.SGD(baseModel.parameters(), lr=learning_rate)\n",
    "\n",
    "model = run_model(baseModel, criterion, optimizer, batch_size, epochs, \"CNN\", 2, 1)"
   ],
   "metadata": {
    "collapsed": false
   },
   "id": "aff52c6c550ed7b1",
   "execution_count": null
  },
  {
   "cell_type": "code",
   "outputs": [],
   "source": [
    " "
   ],
   "metadata": {
    "collapsed": false
   },
   "id": "20391492c546f8cb"
  }
 ],
 "metadata": {
  "kernelspec": {
   "display_name": "Python 3",
   "language": "python",
   "name": "python3"
  },
  "language_info": {
   "codemirror_mode": {
    "name": "ipython",
    "version": 2
   },
   "file_extension": ".py",
   "mimetype": "text/x-python",
   "name": "python",
   "nbconvert_exporter": "python",
   "pygments_lexer": "ipython2",
   "version": "2.7.6"
  }
 },
 "nbformat": 4,
 "nbformat_minor": 5
}
